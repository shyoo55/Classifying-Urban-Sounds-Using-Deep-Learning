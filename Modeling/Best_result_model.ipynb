{
  "cells": [
    {
      "cell_type": "markdown",
      "metadata": {
        "id": "-Zo3kh86dzCP"
      },
      "source": [
        "# Classifying Urban sounds using Deep Learning\n",
        "**By:**\n",
        "- Shaikha Bin Ateeq \n",
        "- Alanoud Alosaimi \n",
        "- Raghad Althanyan "
      ]
    },
    {
      "cell_type": "markdown",
      "metadata": {
        "id": "xcV91S5OdzCS"
      },
      "source": [
        "### OverView  :\n",
        "\n",
        "Following on from the previous notebook, we identifed the following audio properties that need preprocessing to ensure consistency across the whole dataset:\n",
        "- Audio Channels\n",
        "- Sample rate\n",
        "- Bit-depth\n",
        "\n",
        "also We use Mel-Frequency Cepstral Coefficients(MFCC) and extract it from audio samples.now lets move on to split and Build our model "
      ]
    },
    {
      "cell_type": "markdown",
      "metadata": {
        "id": "4Sb0MQqSdzCT"
      },
      "source": [
        "**Import Libraries:**"
      ]
    },
    {
      "cell_type": "code",
      "execution_count": 1,
      "metadata": {
        "id": "pkrP-ivXdzCU"
      },
      "outputs": [],
      "source": [
        "import keras\n",
        "import pickle\n",
        "import numpy as np\n",
        "import pandas as pd\n",
        "from sklearn import metrics \n",
        "import matplotlib.pyplot as plt\n",
        "from keras.utils import np_utils\n",
        "from sklearn.utils import shuffle\n",
        "from keras.models import Sequential\n",
        "from tensorflow.keras.optimizers import Adam\n",
        "from sklearn.preprocessing import LabelEncoder\n",
        "from tensorflow.keras.utils import to_categorical\n",
        "#from keras.layers import Convolution2D, MaxPooling2D\n",
        "#from keras.layers import Dense,Conv2D,MaxPooling2D,Flatten,Dropout,Activation\n",
        "#from keras.layers import Dense, Dropout, Activation, Flatten\n",
        "from sklearn.metrics import classification_report,confusion_matrix \n",
        "from keras.layers import Dense, Embedding, LSTM, Input, Flatten, Dropout, Activation, Conv1D, Conv2D,MaxPooling1D, AveragePooling1D, GlobalAveragePooling2D"
      ]
    },
    {
      "cell_type": "markdown",
      "metadata": {
        "id": "mBp6HNpAdzCV"
      },
      "source": [
        "Read The Data From Pickle File:"
      ]
    },
    {
      "cell_type": "code",
      "execution_count": 2,
      "metadata": {
        "id": "bBFtVeEJeZIE",
        "colab": {
          "base_uri": "https://localhost:8080/"
        },
        "outputId": "c07e3fc7-5191-4c2f-fa89-ac182e65cc29"
      },
      "outputs": [
        {
          "output_type": "stream",
          "name": "stdout",
          "text": [
            "Mounted at /content/drive\n"
          ]
        }
      ],
      "source": [
        "from google.colab import drive\n",
        "drive.mount('/content/drive')"
      ]
    },
    {
      "cell_type": "code",
      "execution_count": 5,
      "metadata": {
        "colab": {
          "base_uri": "https://localhost:8080/",
          "height": 206
        },
        "id": "FMQ9qGE9dzCV",
        "outputId": "30a1a0ef-4fb8-4d27-bfb3-60c2f959fd8f"
      },
      "outputs": [
        {
          "output_type": "execute_result",
          "data": {
            "text/html": [
              "\n",
              "  <div id=\"df-5b6d68b5-17f4-404c-b92e-7492ce2b1a8c\">\n",
              "    <div class=\"colab-df-container\">\n",
              "      <div>\n",
              "<style scoped>\n",
              "    .dataframe tbody tr th:only-of-type {\n",
              "        vertical-align: middle;\n",
              "    }\n",
              "\n",
              "    .dataframe tbody tr th {\n",
              "        vertical-align: top;\n",
              "    }\n",
              "\n",
              "    .dataframe thead th {\n",
              "        text-align: right;\n",
              "    }\n",
              "</style>\n",
              "<table border=\"1\" class=\"dataframe\">\n",
              "  <thead>\n",
              "    <tr style=\"text-align: right;\">\n",
              "      <th></th>\n",
              "      <th>MFCC</th>\n",
              "      <th>class_name</th>\n",
              "    </tr>\n",
              "  </thead>\n",
              "  <tbody>\n",
              "    <tr>\n",
              "      <th>0</th>\n",
              "      <td>[[-1.0, -1.0, -0.6859621, -0.4066782, -0.27337...</td>\n",
              "      <td>dog_bark</td>\n",
              "    </tr>\n",
              "    <tr>\n",
              "      <th>1</th>\n",
              "      <td>[[-1.0, -0.92530745, -0.8827135, -0.83456916, ...</td>\n",
              "      <td>children_playing</td>\n",
              "    </tr>\n",
              "    <tr>\n",
              "      <th>2</th>\n",
              "      <td>[[-0.5573074, -0.52561057, -0.62860227, -0.678...</td>\n",
              "      <td>children_playing</td>\n",
              "    </tr>\n",
              "    <tr>\n",
              "      <th>3</th>\n",
              "      <td>[[-0.9489181, -0.8168003, -0.7987346, -0.78233...</td>\n",
              "      <td>children_playing</td>\n",
              "    </tr>\n",
              "    <tr>\n",
              "      <th>4</th>\n",
              "      <td>[[-0.21790166, -0.15364559, -0.22467631, -0.20...</td>\n",
              "      <td>children_playing</td>\n",
              "    </tr>\n",
              "  </tbody>\n",
              "</table>\n",
              "</div>\n",
              "      <button class=\"colab-df-convert\" onclick=\"convertToInteractive('df-5b6d68b5-17f4-404c-b92e-7492ce2b1a8c')\"\n",
              "              title=\"Convert this dataframe to an interactive table.\"\n",
              "              style=\"display:none;\">\n",
              "        \n",
              "  <svg xmlns=\"http://www.w3.org/2000/svg\" height=\"24px\"viewBox=\"0 0 24 24\"\n",
              "       width=\"24px\">\n",
              "    <path d=\"M0 0h24v24H0V0z\" fill=\"none\"/>\n",
              "    <path d=\"M18.56 5.44l.94 2.06.94-2.06 2.06-.94-2.06-.94-.94-2.06-.94 2.06-2.06.94zm-11 1L8.5 8.5l.94-2.06 2.06-.94-2.06-.94L8.5 2.5l-.94 2.06-2.06.94zm10 10l.94 2.06.94-2.06 2.06-.94-2.06-.94-.94-2.06-.94 2.06-2.06.94z\"/><path d=\"M17.41 7.96l-1.37-1.37c-.4-.4-.92-.59-1.43-.59-.52 0-1.04.2-1.43.59L10.3 9.45l-7.72 7.72c-.78.78-.78 2.05 0 2.83L4 21.41c.39.39.9.59 1.41.59.51 0 1.02-.2 1.41-.59l7.78-7.78 2.81-2.81c.8-.78.8-2.07 0-2.86zM5.41 20L4 18.59l7.72-7.72 1.47 1.35L5.41 20z\"/>\n",
              "  </svg>\n",
              "      </button>\n",
              "      \n",
              "  <style>\n",
              "    .colab-df-container {\n",
              "      display:flex;\n",
              "      flex-wrap:wrap;\n",
              "      gap: 12px;\n",
              "    }\n",
              "\n",
              "    .colab-df-convert {\n",
              "      background-color: #E8F0FE;\n",
              "      border: none;\n",
              "      border-radius: 50%;\n",
              "      cursor: pointer;\n",
              "      display: none;\n",
              "      fill: #1967D2;\n",
              "      height: 32px;\n",
              "      padding: 0 0 0 0;\n",
              "      width: 32px;\n",
              "    }\n",
              "\n",
              "    .colab-df-convert:hover {\n",
              "      background-color: #E2EBFA;\n",
              "      box-shadow: 0px 1px 2px rgba(60, 64, 67, 0.3), 0px 1px 3px 1px rgba(60, 64, 67, 0.15);\n",
              "      fill: #174EA6;\n",
              "    }\n",
              "\n",
              "    [theme=dark] .colab-df-convert {\n",
              "      background-color: #3B4455;\n",
              "      fill: #D2E3FC;\n",
              "    }\n",
              "\n",
              "    [theme=dark] .colab-df-convert:hover {\n",
              "      background-color: #434B5C;\n",
              "      box-shadow: 0px 1px 3px 1px rgba(0, 0, 0, 0.15);\n",
              "      filter: drop-shadow(0px 1px 2px rgba(0, 0, 0, 0.3));\n",
              "      fill: #FFFFFF;\n",
              "    }\n",
              "  </style>\n",
              "\n",
              "      <script>\n",
              "        const buttonEl =\n",
              "          document.querySelector('#df-5b6d68b5-17f4-404c-b92e-7492ce2b1a8c button.colab-df-convert');\n",
              "        buttonEl.style.display =\n",
              "          google.colab.kernel.accessAllowed ? 'block' : 'none';\n",
              "\n",
              "        async function convertToInteractive(key) {\n",
              "          const element = document.querySelector('#df-5b6d68b5-17f4-404c-b92e-7492ce2b1a8c');\n",
              "          const dataTable =\n",
              "            await google.colab.kernel.invokeFunction('convertToInteractive',\n",
              "                                                     [key], {});\n",
              "          if (!dataTable) return;\n",
              "\n",
              "          const docLinkHtml = 'Like what you see? Visit the ' +\n",
              "            '<a target=\"_blank\" href=https://colab.research.google.com/notebooks/data_table.ipynb>data table notebook</a>'\n",
              "            + ' to learn more about interactive tables.';\n",
              "          element.innerHTML = '';\n",
              "          dataTable['output_type'] = 'display_data';\n",
              "          await google.colab.output.renderOutput(dataTable, element);\n",
              "          const docLink = document.createElement('div');\n",
              "          docLink.innerHTML = docLinkHtml;\n",
              "          element.appendChild(docLink);\n",
              "        }\n",
              "      </script>\n",
              "    </div>\n",
              "  </div>\n",
              "  "
            ],
            "text/plain": [
              "                                                MFCC        class_name\n",
              "0  [[-1.0, -1.0, -0.6859621, -0.4066782, -0.27337...          dog_bark\n",
              "1  [[-1.0, -0.92530745, -0.8827135, -0.83456916, ...  children_playing\n",
              "2  [[-0.5573074, -0.52561057, -0.62860227, -0.678...  children_playing\n",
              "3  [[-0.9489181, -0.8168003, -0.7987346, -0.78233...  children_playing\n",
              "4  [[-0.21790166, -0.15364559, -0.22467631, -0.20...  children_playing"
            ]
          },
          "metadata": {},
          "execution_count": 5
        }
      ],
      "source": [
        "with open('/content/drive/MyDrive/Df_Final.pickle','rb') as read_file:\n",
        "    df5 = pickle.load(read_file)\n",
        "    \n",
        "df5.head(5)"
      ]
    },
    {
      "cell_type": "code",
      "execution_count": 6,
      "metadata": {
        "colab": {
          "base_uri": "https://localhost:8080/"
        },
        "id": "t64XbW2edzCW",
        "outputId": "c5ed3ceb-4066-42d4-dd1e-d2fc85d0bb1e"
      },
      "outputs": [
        {
          "output_type": "execute_result",
          "data": {
            "text/plain": [
              "(10903, 2)"
            ]
          },
          "metadata": {},
          "execution_count": 6
        }
      ],
      "source": [
        "df5.shape"
      ]
    },
    {
      "cell_type": "code",
      "source": [
        "option=['Scissors','Bus','Computer_keyboard']\n",
        "df5 = df5[~df5.class_name.isin(option)]\n"
      ],
      "metadata": {
        "id": "401dDQqTV8mn"
      },
      "execution_count": 7,
      "outputs": []
    },
    {
      "cell_type": "code",
      "source": [
        "df5 = df5.rename(columns={'MFCC': 'MFCC_Padded'})"
      ],
      "metadata": {
        "id": "k2SHXH8PWEZJ"
      },
      "execution_count": 8,
      "outputs": []
    },
    {
      "cell_type": "code",
      "execution_count": 9,
      "metadata": {
        "id": "JE0yrMESbhx7"
      },
      "outputs": [],
      "source": [
        "df5 = shuffle(df5)"
      ]
    },
    {
      "cell_type": "code",
      "execution_count": 10,
      "metadata": {
        "colab": {
          "base_uri": "https://localhost:8080/",
          "height": 424
        },
        "id": "l5DEHcWTbrT2",
        "outputId": "d8dae007-78f9-45f0-da76-639786762c97"
      },
      "outputs": [
        {
          "output_type": "execute_result",
          "data": {
            "text/html": [
              "\n",
              "  <div id=\"df-74113272-f447-43f1-b29c-ec9b214a2d75\">\n",
              "    <div class=\"colab-df-container\">\n",
              "      <div>\n",
              "<style scoped>\n",
              "    .dataframe tbody tr th:only-of-type {\n",
              "        vertical-align: middle;\n",
              "    }\n",
              "\n",
              "    .dataframe tbody tr th {\n",
              "        vertical-align: top;\n",
              "    }\n",
              "\n",
              "    .dataframe thead th {\n",
              "        text-align: right;\n",
              "    }\n",
              "</style>\n",
              "<table border=\"1\" class=\"dataframe\">\n",
              "  <thead>\n",
              "    <tr style=\"text-align: right;\">\n",
              "      <th></th>\n",
              "      <th>MFCC_Padded</th>\n",
              "      <th>class_name</th>\n",
              "    </tr>\n",
              "  </thead>\n",
              "  <tbody>\n",
              "    <tr>\n",
              "      <th>2005</th>\n",
              "      <td>[[-0.9172667, -0.87912154, -0.8968485, -0.8754...</td>\n",
              "      <td>air_conditioner</td>\n",
              "    </tr>\n",
              "    <tr>\n",
              "      <th>2200</th>\n",
              "      <td>[[-1.0, -0.86244076, -0.73649526, -0.7827893, ...</td>\n",
              "      <td>street_music</td>\n",
              "    </tr>\n",
              "    <tr>\n",
              "      <th>6096</th>\n",
              "      <td>[[-1.0, -1.0, -1.0, -0.914289, -0.1096527, 0.4...</td>\n",
              "      <td>dog_bark</td>\n",
              "    </tr>\n",
              "    <tr>\n",
              "      <th>6520</th>\n",
              "      <td>[[-0.41883564, -0.5770368, -0.77462727, -0.683...</td>\n",
              "      <td>drilling</td>\n",
              "    </tr>\n",
              "    <tr>\n",
              "      <th>3158</th>\n",
              "      <td>[[-1.0, -1.0, -1.0, -0.8885745, -0.16790804, -...</td>\n",
              "      <td>drilling</td>\n",
              "    </tr>\n",
              "    <tr>\n",
              "      <th>...</th>\n",
              "      <td>...</td>\n",
              "      <td>...</td>\n",
              "    </tr>\n",
              "    <tr>\n",
              "      <th>8849</th>\n",
              "      <td>[[-1.0, -1.0, -1.0, -1.0, -1.0, -1.0, -1.0, -1...</td>\n",
              "      <td>Laughter</td>\n",
              "    </tr>\n",
              "    <tr>\n",
              "      <th>1960</th>\n",
              "      <td>[[-1.0, 0.61632097, 0.7171702, 0.85404974, 0.7...</td>\n",
              "      <td>jackhammer</td>\n",
              "    </tr>\n",
              "    <tr>\n",
              "      <th>6561</th>\n",
              "      <td>[[-1.0, -1.0, -1.0, -0.7659427, -0.47965208, -...</td>\n",
              "      <td>dog_bark</td>\n",
              "    </tr>\n",
              "    <tr>\n",
              "      <th>7418</th>\n",
              "      <td>[[-1.0, -1.0, -1.0, -1.0, -1.0, -1.0, -1.0, -1...</td>\n",
              "      <td>drilling</td>\n",
              "    </tr>\n",
              "    <tr>\n",
              "      <th>4535</th>\n",
              "      <td>[[-1.0, -0.7012023, -0.19062649, -0.15671177, ...</td>\n",
              "      <td>car_horn</td>\n",
              "    </tr>\n",
              "  </tbody>\n",
              "</table>\n",
              "<p>10580 rows × 2 columns</p>\n",
              "</div>\n",
              "      <button class=\"colab-df-convert\" onclick=\"convertToInteractive('df-74113272-f447-43f1-b29c-ec9b214a2d75')\"\n",
              "              title=\"Convert this dataframe to an interactive table.\"\n",
              "              style=\"display:none;\">\n",
              "        \n",
              "  <svg xmlns=\"http://www.w3.org/2000/svg\" height=\"24px\"viewBox=\"0 0 24 24\"\n",
              "       width=\"24px\">\n",
              "    <path d=\"M0 0h24v24H0V0z\" fill=\"none\"/>\n",
              "    <path d=\"M18.56 5.44l.94 2.06.94-2.06 2.06-.94-2.06-.94-.94-2.06-.94 2.06-2.06.94zm-11 1L8.5 8.5l.94-2.06 2.06-.94-2.06-.94L8.5 2.5l-.94 2.06-2.06.94zm10 10l.94 2.06.94-2.06 2.06-.94-2.06-.94-.94-2.06-.94 2.06-2.06.94z\"/><path d=\"M17.41 7.96l-1.37-1.37c-.4-.4-.92-.59-1.43-.59-.52 0-1.04.2-1.43.59L10.3 9.45l-7.72 7.72c-.78.78-.78 2.05 0 2.83L4 21.41c.39.39.9.59 1.41.59.51 0 1.02-.2 1.41-.59l7.78-7.78 2.81-2.81c.8-.78.8-2.07 0-2.86zM5.41 20L4 18.59l7.72-7.72 1.47 1.35L5.41 20z\"/>\n",
              "  </svg>\n",
              "      </button>\n",
              "      \n",
              "  <style>\n",
              "    .colab-df-container {\n",
              "      display:flex;\n",
              "      flex-wrap:wrap;\n",
              "      gap: 12px;\n",
              "    }\n",
              "\n",
              "    .colab-df-convert {\n",
              "      background-color: #E8F0FE;\n",
              "      border: none;\n",
              "      border-radius: 50%;\n",
              "      cursor: pointer;\n",
              "      display: none;\n",
              "      fill: #1967D2;\n",
              "      height: 32px;\n",
              "      padding: 0 0 0 0;\n",
              "      width: 32px;\n",
              "    }\n",
              "\n",
              "    .colab-df-convert:hover {\n",
              "      background-color: #E2EBFA;\n",
              "      box-shadow: 0px 1px 2px rgba(60, 64, 67, 0.3), 0px 1px 3px 1px rgba(60, 64, 67, 0.15);\n",
              "      fill: #174EA6;\n",
              "    }\n",
              "\n",
              "    [theme=dark] .colab-df-convert {\n",
              "      background-color: #3B4455;\n",
              "      fill: #D2E3FC;\n",
              "    }\n",
              "\n",
              "    [theme=dark] .colab-df-convert:hover {\n",
              "      background-color: #434B5C;\n",
              "      box-shadow: 0px 1px 3px 1px rgba(0, 0, 0, 0.15);\n",
              "      filter: drop-shadow(0px 1px 2px rgba(0, 0, 0, 0.3));\n",
              "      fill: #FFFFFF;\n",
              "    }\n",
              "  </style>\n",
              "\n",
              "      <script>\n",
              "        const buttonEl =\n",
              "          document.querySelector('#df-74113272-f447-43f1-b29c-ec9b214a2d75 button.colab-df-convert');\n",
              "        buttonEl.style.display =\n",
              "          google.colab.kernel.accessAllowed ? 'block' : 'none';\n",
              "\n",
              "        async function convertToInteractive(key) {\n",
              "          const element = document.querySelector('#df-74113272-f447-43f1-b29c-ec9b214a2d75');\n",
              "          const dataTable =\n",
              "            await google.colab.kernel.invokeFunction('convertToInteractive',\n",
              "                                                     [key], {});\n",
              "          if (!dataTable) return;\n",
              "\n",
              "          const docLinkHtml = 'Like what you see? Visit the ' +\n",
              "            '<a target=\"_blank\" href=https://colab.research.google.com/notebooks/data_table.ipynb>data table notebook</a>'\n",
              "            + ' to learn more about interactive tables.';\n",
              "          element.innerHTML = '';\n",
              "          dataTable['output_type'] = 'display_data';\n",
              "          await google.colab.output.renderOutput(dataTable, element);\n",
              "          const docLink = document.createElement('div');\n",
              "          docLink.innerHTML = docLinkHtml;\n",
              "          element.appendChild(docLink);\n",
              "        }\n",
              "      </script>\n",
              "    </div>\n",
              "  </div>\n",
              "  "
            ],
            "text/plain": [
              "                                            MFCC_Padded       class_name\n",
              "2005  [[-0.9172667, -0.87912154, -0.8968485, -0.8754...  air_conditioner\n",
              "2200  [[-1.0, -0.86244076, -0.73649526, -0.7827893, ...     street_music\n",
              "6096  [[-1.0, -1.0, -1.0, -0.914289, -0.1096527, 0.4...         dog_bark\n",
              "6520  [[-0.41883564, -0.5770368, -0.77462727, -0.683...         drilling\n",
              "3158  [[-1.0, -1.0, -1.0, -0.8885745, -0.16790804, -...         drilling\n",
              "...                                                 ...              ...\n",
              "8849  [[-1.0, -1.0, -1.0, -1.0, -1.0, -1.0, -1.0, -1...         Laughter\n",
              "1960  [[-1.0, 0.61632097, 0.7171702, 0.85404974, 0.7...       jackhammer\n",
              "6561  [[-1.0, -1.0, -1.0, -0.7659427, -0.47965208, -...         dog_bark\n",
              "7418  [[-1.0, -1.0, -1.0, -1.0, -1.0, -1.0, -1.0, -1...         drilling\n",
              "4535  [[-1.0, -0.7012023, -0.19062649, -0.15671177, ...         car_horn\n",
              "\n",
              "[10580 rows x 2 columns]"
            ]
          },
          "metadata": {},
          "execution_count": 10
        }
      ],
      "source": [
        "df5"
      ]
    },
    {
      "cell_type": "code",
      "source": [
        "df5.class_name.value_counts()"
      ],
      "metadata": {
        "colab": {
          "base_uri": "https://localhost:8080/"
        },
        "id": "ko_KCzcsEywb",
        "outputId": "f31106f9-a52e-4071-aa05-a055f78150c6"
      },
      "execution_count": 11,
      "outputs": [
        {
          "output_type": "execute_result",
          "data": {
            "text/plain": [
              "dog_bark            1000\n",
              "engine_idling       1000\n",
              "air_conditioner     1000\n",
              "drilling            1000\n",
              "children_playing    1000\n",
              "street_music        1000\n",
              "jackhammer          1000\n",
              "siren                929\n",
              "car_horn             429\n",
              "gun_shot             374\n",
              "Laughter             300\n",
              "Applause             300\n",
              "Tearing              300\n",
              "Fireworks            300\n",
              "Cough                243\n",
              "Microwave_oven       146\n",
              "Keys_jangling        139\n",
              "Telephone            120\n",
              "Name: class_name, dtype: int64"
            ]
          },
          "metadata": {},
          "execution_count": 11
        }
      ]
    },
    {
      "cell_type": "code",
      "execution_count": 12,
      "metadata": {
        "id": "dWvyJzFGbuj8"
      },
      "outputs": [],
      "source": [
        "df5 = df5.reset_index(drop=True)"
      ]
    },
    {
      "cell_type": "code",
      "execution_count": 13,
      "metadata": {
        "colab": {
          "base_uri": "https://localhost:8080/",
          "height": 424
        },
        "id": "3Al9Eg5Xb14P",
        "outputId": "d11a7713-2158-4fa6-9216-fae6927c36c7"
      },
      "outputs": [
        {
          "output_type": "execute_result",
          "data": {
            "text/html": [
              "\n",
              "  <div id=\"df-df958124-7d03-490a-b0a8-a0dfdcc0ee63\">\n",
              "    <div class=\"colab-df-container\">\n",
              "      <div>\n",
              "<style scoped>\n",
              "    .dataframe tbody tr th:only-of-type {\n",
              "        vertical-align: middle;\n",
              "    }\n",
              "\n",
              "    .dataframe tbody tr th {\n",
              "        vertical-align: top;\n",
              "    }\n",
              "\n",
              "    .dataframe thead th {\n",
              "        text-align: right;\n",
              "    }\n",
              "</style>\n",
              "<table border=\"1\" class=\"dataframe\">\n",
              "  <thead>\n",
              "    <tr style=\"text-align: right;\">\n",
              "      <th></th>\n",
              "      <th>MFCC_Padded</th>\n",
              "      <th>class_name</th>\n",
              "    </tr>\n",
              "  </thead>\n",
              "  <tbody>\n",
              "    <tr>\n",
              "      <th>0</th>\n",
              "      <td>[[-0.9172667, -0.87912154, -0.8968485, -0.8754...</td>\n",
              "      <td>air_conditioner</td>\n",
              "    </tr>\n",
              "    <tr>\n",
              "      <th>1</th>\n",
              "      <td>[[-1.0, -0.86244076, -0.73649526, -0.7827893, ...</td>\n",
              "      <td>street_music</td>\n",
              "    </tr>\n",
              "    <tr>\n",
              "      <th>2</th>\n",
              "      <td>[[-1.0, -1.0, -1.0, -0.914289, -0.1096527, 0.4...</td>\n",
              "      <td>dog_bark</td>\n",
              "    </tr>\n",
              "    <tr>\n",
              "      <th>3</th>\n",
              "      <td>[[-0.41883564, -0.5770368, -0.77462727, -0.683...</td>\n",
              "      <td>drilling</td>\n",
              "    </tr>\n",
              "    <tr>\n",
              "      <th>4</th>\n",
              "      <td>[[-1.0, -1.0, -1.0, -0.8885745, -0.16790804, -...</td>\n",
              "      <td>drilling</td>\n",
              "    </tr>\n",
              "    <tr>\n",
              "      <th>...</th>\n",
              "      <td>...</td>\n",
              "      <td>...</td>\n",
              "    </tr>\n",
              "    <tr>\n",
              "      <th>10575</th>\n",
              "      <td>[[-1.0, -1.0, -1.0, -1.0, -1.0, -1.0, -1.0, -1...</td>\n",
              "      <td>Laughter</td>\n",
              "    </tr>\n",
              "    <tr>\n",
              "      <th>10576</th>\n",
              "      <td>[[-1.0, 0.61632097, 0.7171702, 0.85404974, 0.7...</td>\n",
              "      <td>jackhammer</td>\n",
              "    </tr>\n",
              "    <tr>\n",
              "      <th>10577</th>\n",
              "      <td>[[-1.0, -1.0, -1.0, -0.7659427, -0.47965208, -...</td>\n",
              "      <td>dog_bark</td>\n",
              "    </tr>\n",
              "    <tr>\n",
              "      <th>10578</th>\n",
              "      <td>[[-1.0, -1.0, -1.0, -1.0, -1.0, -1.0, -1.0, -1...</td>\n",
              "      <td>drilling</td>\n",
              "    </tr>\n",
              "    <tr>\n",
              "      <th>10579</th>\n",
              "      <td>[[-1.0, -0.7012023, -0.19062649, -0.15671177, ...</td>\n",
              "      <td>car_horn</td>\n",
              "    </tr>\n",
              "  </tbody>\n",
              "</table>\n",
              "<p>10580 rows × 2 columns</p>\n",
              "</div>\n",
              "      <button class=\"colab-df-convert\" onclick=\"convertToInteractive('df-df958124-7d03-490a-b0a8-a0dfdcc0ee63')\"\n",
              "              title=\"Convert this dataframe to an interactive table.\"\n",
              "              style=\"display:none;\">\n",
              "        \n",
              "  <svg xmlns=\"http://www.w3.org/2000/svg\" height=\"24px\"viewBox=\"0 0 24 24\"\n",
              "       width=\"24px\">\n",
              "    <path d=\"M0 0h24v24H0V0z\" fill=\"none\"/>\n",
              "    <path d=\"M18.56 5.44l.94 2.06.94-2.06 2.06-.94-2.06-.94-.94-2.06-.94 2.06-2.06.94zm-11 1L8.5 8.5l.94-2.06 2.06-.94-2.06-.94L8.5 2.5l-.94 2.06-2.06.94zm10 10l.94 2.06.94-2.06 2.06-.94-2.06-.94-.94-2.06-.94 2.06-2.06.94z\"/><path d=\"M17.41 7.96l-1.37-1.37c-.4-.4-.92-.59-1.43-.59-.52 0-1.04.2-1.43.59L10.3 9.45l-7.72 7.72c-.78.78-.78 2.05 0 2.83L4 21.41c.39.39.9.59 1.41.59.51 0 1.02-.2 1.41-.59l7.78-7.78 2.81-2.81c.8-.78.8-2.07 0-2.86zM5.41 20L4 18.59l7.72-7.72 1.47 1.35L5.41 20z\"/>\n",
              "  </svg>\n",
              "      </button>\n",
              "      \n",
              "  <style>\n",
              "    .colab-df-container {\n",
              "      display:flex;\n",
              "      flex-wrap:wrap;\n",
              "      gap: 12px;\n",
              "    }\n",
              "\n",
              "    .colab-df-convert {\n",
              "      background-color: #E8F0FE;\n",
              "      border: none;\n",
              "      border-radius: 50%;\n",
              "      cursor: pointer;\n",
              "      display: none;\n",
              "      fill: #1967D2;\n",
              "      height: 32px;\n",
              "      padding: 0 0 0 0;\n",
              "      width: 32px;\n",
              "    }\n",
              "\n",
              "    .colab-df-convert:hover {\n",
              "      background-color: #E2EBFA;\n",
              "      box-shadow: 0px 1px 2px rgba(60, 64, 67, 0.3), 0px 1px 3px 1px rgba(60, 64, 67, 0.15);\n",
              "      fill: #174EA6;\n",
              "    }\n",
              "\n",
              "    [theme=dark] .colab-df-convert {\n",
              "      background-color: #3B4455;\n",
              "      fill: #D2E3FC;\n",
              "    }\n",
              "\n",
              "    [theme=dark] .colab-df-convert:hover {\n",
              "      background-color: #434B5C;\n",
              "      box-shadow: 0px 1px 3px 1px rgba(0, 0, 0, 0.15);\n",
              "      filter: drop-shadow(0px 1px 2px rgba(0, 0, 0, 0.3));\n",
              "      fill: #FFFFFF;\n",
              "    }\n",
              "  </style>\n",
              "\n",
              "      <script>\n",
              "        const buttonEl =\n",
              "          document.querySelector('#df-df958124-7d03-490a-b0a8-a0dfdcc0ee63 button.colab-df-convert');\n",
              "        buttonEl.style.display =\n",
              "          google.colab.kernel.accessAllowed ? 'block' : 'none';\n",
              "\n",
              "        async function convertToInteractive(key) {\n",
              "          const element = document.querySelector('#df-df958124-7d03-490a-b0a8-a0dfdcc0ee63');\n",
              "          const dataTable =\n",
              "            await google.colab.kernel.invokeFunction('convertToInteractive',\n",
              "                                                     [key], {});\n",
              "          if (!dataTable) return;\n",
              "\n",
              "          const docLinkHtml = 'Like what you see? Visit the ' +\n",
              "            '<a target=\"_blank\" href=https://colab.research.google.com/notebooks/data_table.ipynb>data table notebook</a>'\n",
              "            + ' to learn more about interactive tables.';\n",
              "          element.innerHTML = '';\n",
              "          dataTable['output_type'] = 'display_data';\n",
              "          await google.colab.output.renderOutput(dataTable, element);\n",
              "          const docLink = document.createElement('div');\n",
              "          docLink.innerHTML = docLinkHtml;\n",
              "          element.appendChild(docLink);\n",
              "        }\n",
              "      </script>\n",
              "    </div>\n",
              "  </div>\n",
              "  "
            ],
            "text/plain": [
              "                                             MFCC_Padded       class_name\n",
              "0      [[-0.9172667, -0.87912154, -0.8968485, -0.8754...  air_conditioner\n",
              "1      [[-1.0, -0.86244076, -0.73649526, -0.7827893, ...     street_music\n",
              "2      [[-1.0, -1.0, -1.0, -0.914289, -0.1096527, 0.4...         dog_bark\n",
              "3      [[-0.41883564, -0.5770368, -0.77462727, -0.683...         drilling\n",
              "4      [[-1.0, -1.0, -1.0, -0.8885745, -0.16790804, -...         drilling\n",
              "...                                                  ...              ...\n",
              "10575  [[-1.0, -1.0, -1.0, -1.0, -1.0, -1.0, -1.0, -1...         Laughter\n",
              "10576  [[-1.0, 0.61632097, 0.7171702, 0.85404974, 0.7...       jackhammer\n",
              "10577  [[-1.0, -1.0, -1.0, -0.7659427, -0.47965208, -...         dog_bark\n",
              "10578  [[-1.0, -1.0, -1.0, -1.0, -1.0, -1.0, -1.0, -1...         drilling\n",
              "10579  [[-1.0, -0.7012023, -0.19062649, -0.15671177, ...         car_horn\n",
              "\n",
              "[10580 rows x 2 columns]"
            ]
          },
          "metadata": {},
          "execution_count": 13
        }
      ],
      "source": [
        "df5"
      ]
    },
    {
      "cell_type": "code",
      "execution_count": 14,
      "metadata": {
        "id": "gAA-A9eXUJQ1"
      },
      "outputs": [],
      "source": [
        "#df5=df5.groupby('class_name',as_index = False,group_keys=False).apply(lambda s: s.sample(200,replace=True))"
      ]
    },
    {
      "cell_type": "code",
      "execution_count": 15,
      "metadata": {
        "id": "8Q2A5jueUJQ1"
      },
      "outputs": [],
      "source": [
        "#df5=df5.reset_index(drop=True)"
      ]
    },
    {
      "cell_type": "code",
      "execution_count": 16,
      "metadata": {
        "id": "Vp5ZI4DCUJQ1"
      },
      "outputs": [],
      "source": [
        "#len(df5)"
      ]
    },
    {
      "cell_type": "code",
      "execution_count": 17,
      "metadata": {
        "id": "SefRsdJedzCb"
      },
      "outputs": [],
      "source": [
        "#df5 = df5.rename(columns={'MFCC Padded': 'MFCC_Padded'})"
      ]
    },
    {
      "cell_type": "code",
      "execution_count": 18,
      "metadata": {
        "id": "z0b7vVyhdzCc"
      },
      "outputs": [],
      "source": [
        "#df5"
      ]
    },
    {
      "cell_type": "code",
      "execution_count": 19,
      "metadata": {
        "id": "6UlvO_tQdzCd"
      },
      "outputs": [],
      "source": [
        "# Convert features and corresponding classification labels into numpy arrays\n",
        "X = np.array(df5.MFCC_Padded.tolist())\n",
        "y = np.array(df5.class_name.tolist())"
      ]
    },
    {
      "cell_type": "code",
      "execution_count": 20,
      "metadata": {
        "colab": {
          "base_uri": "https://localhost:8080/"
        },
        "id": "MhTtNNVcdzCd",
        "outputId": "6bcf1e74-295a-4bc7-c6bd-a4edd693d89c"
      },
      "outputs": [
        {
          "output_type": "execute_result",
          "data": {
            "text/plain": [
              "(10580, 40, 174)"
            ]
          },
          "metadata": {},
          "execution_count": 20
        }
      ],
      "source": [
        "X.shape"
      ]
    },
    {
      "cell_type": "code",
      "execution_count": 21,
      "metadata": {
        "colab": {
          "base_uri": "https://localhost:8080/"
        },
        "id": "oMFpSaLbdzCd",
        "outputId": "bd4b1e0d-ee61-48df-e9ef-ee0ce7df1e39"
      },
      "outputs": [
        {
          "output_type": "execute_result",
          "data": {
            "text/plain": [
              "(10580,)"
            ]
          },
          "metadata": {},
          "execution_count": 21
        }
      ],
      "source": [
        "y.shape"
      ]
    },
    {
      "cell_type": "code",
      "execution_count": 22,
      "metadata": {
        "colab": {
          "base_uri": "https://localhost:8080/",
          "height": 424
        },
        "id": "HRAqBxUNdzCd",
        "outputId": "ebec3427-7495-4d69-9175-82c5bd591f50"
      },
      "outputs": [
        {
          "output_type": "execute_result",
          "data": {
            "text/html": [
              "\n",
              "  <div id=\"df-4f7c6622-512e-4211-b854-f368633898c7\">\n",
              "    <div class=\"colab-df-container\">\n",
              "      <div>\n",
              "<style scoped>\n",
              "    .dataframe tbody tr th:only-of-type {\n",
              "        vertical-align: middle;\n",
              "    }\n",
              "\n",
              "    .dataframe tbody tr th {\n",
              "        vertical-align: top;\n",
              "    }\n",
              "\n",
              "    .dataframe thead th {\n",
              "        text-align: right;\n",
              "    }\n",
              "</style>\n",
              "<table border=\"1\" class=\"dataframe\">\n",
              "  <thead>\n",
              "    <tr style=\"text-align: right;\">\n",
              "      <th></th>\n",
              "      <th>0</th>\n",
              "    </tr>\n",
              "  </thead>\n",
              "  <tbody>\n",
              "    <tr>\n",
              "      <th>0</th>\n",
              "      <td>air_conditioner</td>\n",
              "    </tr>\n",
              "    <tr>\n",
              "      <th>1</th>\n",
              "      <td>street_music</td>\n",
              "    </tr>\n",
              "    <tr>\n",
              "      <th>2</th>\n",
              "      <td>dog_bark</td>\n",
              "    </tr>\n",
              "    <tr>\n",
              "      <th>3</th>\n",
              "      <td>drilling</td>\n",
              "    </tr>\n",
              "    <tr>\n",
              "      <th>4</th>\n",
              "      <td>drilling</td>\n",
              "    </tr>\n",
              "    <tr>\n",
              "      <th>...</th>\n",
              "      <td>...</td>\n",
              "    </tr>\n",
              "    <tr>\n",
              "      <th>585</th>\n",
              "      <td>air_conditioner</td>\n",
              "    </tr>\n",
              "    <tr>\n",
              "      <th>586</th>\n",
              "      <td>air_conditioner</td>\n",
              "    </tr>\n",
              "    <tr>\n",
              "      <th>587</th>\n",
              "      <td>street_music</td>\n",
              "    </tr>\n",
              "    <tr>\n",
              "      <th>588</th>\n",
              "      <td>dog_bark</td>\n",
              "    </tr>\n",
              "    <tr>\n",
              "      <th>589</th>\n",
              "      <td>jackhammer</td>\n",
              "    </tr>\n",
              "  </tbody>\n",
              "</table>\n",
              "<p>590 rows × 1 columns</p>\n",
              "</div>\n",
              "      <button class=\"colab-df-convert\" onclick=\"convertToInteractive('df-4f7c6622-512e-4211-b854-f368633898c7')\"\n",
              "              title=\"Convert this dataframe to an interactive table.\"\n",
              "              style=\"display:none;\">\n",
              "        \n",
              "  <svg xmlns=\"http://www.w3.org/2000/svg\" height=\"24px\"viewBox=\"0 0 24 24\"\n",
              "       width=\"24px\">\n",
              "    <path d=\"M0 0h24v24H0V0z\" fill=\"none\"/>\n",
              "    <path d=\"M18.56 5.44l.94 2.06.94-2.06 2.06-.94-2.06-.94-.94-2.06-.94 2.06-2.06.94zm-11 1L8.5 8.5l.94-2.06 2.06-.94-2.06-.94L8.5 2.5l-.94 2.06-2.06.94zm10 10l.94 2.06.94-2.06 2.06-.94-2.06-.94-.94-2.06-.94 2.06-2.06.94z\"/><path d=\"M17.41 7.96l-1.37-1.37c-.4-.4-.92-.59-1.43-.59-.52 0-1.04.2-1.43.59L10.3 9.45l-7.72 7.72c-.78.78-.78 2.05 0 2.83L4 21.41c.39.39.9.59 1.41.59.51 0 1.02-.2 1.41-.59l7.78-7.78 2.81-2.81c.8-.78.8-2.07 0-2.86zM5.41 20L4 18.59l7.72-7.72 1.47 1.35L5.41 20z\"/>\n",
              "  </svg>\n",
              "      </button>\n",
              "      \n",
              "  <style>\n",
              "    .colab-df-container {\n",
              "      display:flex;\n",
              "      flex-wrap:wrap;\n",
              "      gap: 12px;\n",
              "    }\n",
              "\n",
              "    .colab-df-convert {\n",
              "      background-color: #E8F0FE;\n",
              "      border: none;\n",
              "      border-radius: 50%;\n",
              "      cursor: pointer;\n",
              "      display: none;\n",
              "      fill: #1967D2;\n",
              "      height: 32px;\n",
              "      padding: 0 0 0 0;\n",
              "      width: 32px;\n",
              "    }\n",
              "\n",
              "    .colab-df-convert:hover {\n",
              "      background-color: #E2EBFA;\n",
              "      box-shadow: 0px 1px 2px rgba(60, 64, 67, 0.3), 0px 1px 3px 1px rgba(60, 64, 67, 0.15);\n",
              "      fill: #174EA6;\n",
              "    }\n",
              "\n",
              "    [theme=dark] .colab-df-convert {\n",
              "      background-color: #3B4455;\n",
              "      fill: #D2E3FC;\n",
              "    }\n",
              "\n",
              "    [theme=dark] .colab-df-convert:hover {\n",
              "      background-color: #434B5C;\n",
              "      box-shadow: 0px 1px 3px 1px rgba(0, 0, 0, 0.15);\n",
              "      filter: drop-shadow(0px 1px 2px rgba(0, 0, 0, 0.3));\n",
              "      fill: #FFFFFF;\n",
              "    }\n",
              "  </style>\n",
              "\n",
              "      <script>\n",
              "        const buttonEl =\n",
              "          document.querySelector('#df-4f7c6622-512e-4211-b854-f368633898c7 button.colab-df-convert');\n",
              "        buttonEl.style.display =\n",
              "          google.colab.kernel.accessAllowed ? 'block' : 'none';\n",
              "\n",
              "        async function convertToInteractive(key) {\n",
              "          const element = document.querySelector('#df-4f7c6622-512e-4211-b854-f368633898c7');\n",
              "          const dataTable =\n",
              "            await google.colab.kernel.invokeFunction('convertToInteractive',\n",
              "                                                     [key], {});\n",
              "          if (!dataTable) return;\n",
              "\n",
              "          const docLinkHtml = 'Like what you see? Visit the ' +\n",
              "            '<a target=\"_blank\" href=https://colab.research.google.com/notebooks/data_table.ipynb>data table notebook</a>'\n",
              "            + ' to learn more about interactive tables.';\n",
              "          element.innerHTML = '';\n",
              "          dataTable['output_type'] = 'display_data';\n",
              "          await google.colab.output.renderOutput(dataTable, element);\n",
              "          const docLink = document.createElement('div');\n",
              "          docLink.innerHTML = docLinkHtml;\n",
              "          element.appendChild(docLink);\n",
              "        }\n",
              "      </script>\n",
              "    </div>\n",
              "  </div>\n",
              "  "
            ],
            "text/plain": [
              "                   0\n",
              "0    air_conditioner\n",
              "1       street_music\n",
              "2           dog_bark\n",
              "3           drilling\n",
              "4           drilling\n",
              "..               ...\n",
              "585  air_conditioner\n",
              "586  air_conditioner\n",
              "587     street_music\n",
              "588         dog_bark\n",
              "589       jackhammer\n",
              "\n",
              "[590 rows x 1 columns]"
            ]
          },
          "metadata": {},
          "execution_count": 22
        }
      ],
      "source": [
        "#y.head()\n",
        "aa = pd.DataFrame(y)\n",
        "aa.head(590)"
      ]
    },
    {
      "cell_type": "code",
      "execution_count": 23,
      "metadata": {
        "id": "e1TwoSiSweMH"
      },
      "outputs": [],
      "source": [
        "le = LabelEncoder()\n",
        "yy = to_categorical(le.fit_transform(y))"
      ]
    },
    {
      "cell_type": "code",
      "execution_count": 24,
      "metadata": {
        "colab": {
          "base_uri": "https://localhost:8080/"
        },
        "id": "m3kuHwcgdzCd",
        "outputId": "fcc2237a-23e8-44b6-a6ac-d3005da1cad6"
      },
      "outputs": [
        {
          "output_type": "execute_result",
          "data": {
            "text/plain": [
              "array([[0., 0., 0., ..., 0., 0., 0.],\n",
              "       [0., 0., 0., ..., 0., 0., 1.],\n",
              "       [0., 0., 0., ..., 0., 0., 0.],\n",
              "       ...,\n",
              "       [0., 0., 0., ..., 0., 0., 0.],\n",
              "       [0., 0., 0., ..., 0., 0., 0.],\n",
              "       [0., 0., 0., ..., 0., 0., 0.]], dtype=float32)"
            ]
          },
          "metadata": {},
          "execution_count": 24
        }
      ],
      "source": [
        "yy"
      ]
    },
    {
      "cell_type": "code",
      "execution_count": 25,
      "metadata": {
        "colab": {
          "base_uri": "https://localhost:8080/"
        },
        "id": "vpIFEJlHdzCe",
        "outputId": "d15b3134-c192-4c11-9083-2b166375d8c8"
      },
      "outputs": [
        {
          "output_type": "execute_result",
          "data": {
            "text/plain": [
              "18"
            ]
          },
          "metadata": {},
          "execution_count": 25
        }
      ],
      "source": [
        "num_labels = 18\n",
        "num_labels"
      ]
    },
    {
      "cell_type": "markdown",
      "metadata": {
        "id": "BHu8HZi6dzCe"
      },
      "source": [
        "### Split the dataset:"
      ]
    },
    {
      "cell_type": "code",
      "execution_count": 26,
      "metadata": {
        "id": "cV9D35yidzCe"
      },
      "outputs": [],
      "source": [
        "from sklearn.model_selection import train_test_split \n",
        "X_train, X_test, y_train, y_test = train_test_split(X, yy, test_size=0.2, random_state = 42)\n",
        "X_train , X_val, y_train, y_val = train_test_split(X_train,y_train, test_size=.25, random_state= 42)"
      ]
    },
    {
      "cell_type": "code",
      "execution_count": 27,
      "metadata": {
        "colab": {
          "base_uri": "https://localhost:8080/"
        },
        "id": "euwmgqdD57KY",
        "outputId": "8effb0cc-25d6-432a-c186-951702443a98"
      },
      "outputs": [
        {
          "output_type": "execute_result",
          "data": {
            "text/plain": [
              "((6348, 40, 174),\n",
              " (2116, 40, 174),\n",
              " (6348, 18),\n",
              " (2116, 18),\n",
              " (2116, 40, 174),\n",
              " (2116, 18))"
            ]
          },
          "metadata": {},
          "execution_count": 27
        }
      ],
      "source": [
        "X_train.shape, X_val.shape, y_train.shape, y_val.shape, X_test.shape, y_test.shape"
      ]
    },
    {
      "cell_type": "code",
      "execution_count": 28,
      "metadata": {
        "id": "zyn6NNfgxA6Z"
      },
      "outputs": [],
      "source": [
        "#X_train.shape, X_val.shape, y_train.shape, y_val.shape, X_test.shape, y_test.shape"
      ]
    },
    {
      "cell_type": "code",
      "execution_count": 29,
      "metadata": {
        "colab": {
          "base_uri": "https://localhost:8080/"
        },
        "id": "Eavw9DyExzv9",
        "outputId": "d81f210e-ec86-4039-ae40-635c963f2446"
      },
      "outputs": [
        {
          "output_type": "execute_result",
          "data": {
            "text/plain": [
              "array([[0., 0., 0., ..., 0., 1., 0.],\n",
              "       [0., 0., 0., ..., 0., 0., 1.],\n",
              "       [0., 0., 0., ..., 0., 0., 0.],\n",
              "       ...,\n",
              "       [0., 0., 0., ..., 0., 0., 0.],\n",
              "       [0., 0., 0., ..., 0., 1., 0.],\n",
              "       [1., 0., 0., ..., 0., 0., 0.]], dtype=float32)"
            ]
          },
          "metadata": {},
          "execution_count": 29
        }
      ],
      "source": [
        "y_train"
      ]
    },
    {
      "cell_type": "code",
      "execution_count": 30,
      "metadata": {
        "id": "LM5HPt4LdzCe"
      },
      "outputs": [],
      "source": [
        "#reshaping to shape required by CNN\n",
        "X_train2=np.reshape(X_train,(X_train.shape[0], 40,174,1))\n",
        "X_val2=np.reshape(X_val,(X_val.shape[0], 40,174,1))\n",
        "X_test2=np.reshape(X_test,(X_test.shape[0], 40,174,1))"
      ]
    },
    {
      "cell_type": "code",
      "execution_count": 31,
      "metadata": {
        "colab": {
          "base_uri": "https://localhost:8080/"
        },
        "id": "aBjdHqhu2Jb4",
        "outputId": "b2703413-8a7b-470d-9206-9e02f415d0c6"
      },
      "outputs": [
        {
          "output_type": "execute_result",
          "data": {
            "text/plain": [
              "((6348, 40, 174, 1), (2116, 40, 174, 1), (6348, 18), (2116, 18))"
            ]
          },
          "metadata": {},
          "execution_count": 31
        }
      ],
      "source": [
        "X_train2.shape, X_val2.shape, y_train.shape, y_val.shape"
      ]
    },
    {
      "cell_type": "code",
      "execution_count": 32,
      "metadata": {
        "colab": {
          "base_uri": "https://localhost:8080/"
        },
        "id": "bkUQcOZr1FeG",
        "outputId": "36702ced-6515-42e1-abd2-757a8fdedf77"
      },
      "outputs": [
        {
          "output_type": "execute_result",
          "data": {
            "text/plain": [
              "(40, 174, 1)"
            ]
          },
          "metadata": {},
          "execution_count": 32
        }
      ],
      "source": [
        "X_train2.shape[1:]"
      ]
    },
    {
      "cell_type": "code",
      "execution_count": 33,
      "metadata": {
        "colab": {
          "base_uri": "https://localhost:8080/"
        },
        "id": "x-uDkxrT_KH3",
        "outputId": "0fa1fe46-b1fc-4d04-c725-03cce83e9cc1"
      },
      "outputs": [
        {
          "output_type": "execute_result",
          "data": {
            "text/plain": [
              "(6348, 40, 174, 1)"
            ]
          },
          "metadata": {},
          "execution_count": 33
        }
      ],
      "source": [
        "X_train2.shape"
      ]
    },
    {
      "cell_type": "code",
      "execution_count": 34,
      "metadata": {
        "colab": {
          "base_uri": "https://localhost:8080/"
        },
        "id": "3aJyZnJn_ORy",
        "outputId": "97dc2bff-363d-4ed7-aa38-c22247693eb0"
      },
      "outputs": [
        {
          "output_type": "execute_result",
          "data": {
            "text/plain": [
              "(6348, 18)"
            ]
          },
          "metadata": {},
          "execution_count": 34
        }
      ],
      "source": [
        "y_train.shape"
      ]
    },
    {
      "cell_type": "code",
      "execution_count": 35,
      "metadata": {
        "colab": {
          "base_uri": "https://localhost:8080/"
        },
        "id": "qxTEMoJr_EHP",
        "outputId": "13cb8d42-e55e-4ea3-d427-9cf45fa8be3c"
      },
      "outputs": [
        {
          "output_type": "execute_result",
          "data": {
            "text/plain": [
              "(40, 174)"
            ]
          },
          "metadata": {},
          "execution_count": 35
        }
      ],
      "source": [
        "X_train.shape[1:]"
      ]
    },
    {
      "cell_type": "markdown",
      "metadata": {
        "id": "HM7GYY0DdzCf"
      },
      "source": [
        "# EX1:"
      ]
    },
    {
      "cell_type": "code",
      "execution_count": 36,
      "metadata": {
        "id": "E8X7KCk3-xnG"
      },
      "outputs": [],
      "source": [
        "from tensorflow.keras.layers import InputLayer, BatchNormalization, MaxPooling2D\n",
        "from keras.callbacks import ModelCheckpoint \n",
        "from tensorflow.keras.callbacks import EarlyStopping\n",
        "from datetime import datetime "
      ]
    },
    {
      "cell_type": "code",
      "execution_count": 37,
      "metadata": {
        "id": "lY7o0NSt0_d3"
      },
      "outputs": [],
      "source": [
        "model = Sequential()\n",
        "\n",
        "input_shape=X_train2.shape[1:]\n",
        "\n",
        "model.add(Conv2D(64, (5, 5), input_shape=input_shape,activation='relu', padding='same'))\n",
        "model.add(MaxPooling2D(padding=\"same\"))\n",
        "\n",
        "model.add(Conv2D(128,kernel_size=5,strides=1,padding=\"same\",activation=\"relu\"))\n",
        "model.add(MaxPooling2D(padding=\"same\"))\n",
        "model.add(Dropout(0.3))\n",
        "\n",
        "model.add(Flatten())\n",
        "\n",
        "model.add(Dense(256,activation=\"relu\"))\n",
        "model.add(Dropout(0.3))\n",
        "\n",
        "model.add(Dense(512,activation=\"relu\"))\n",
        "model.add(Dropout(0.3))\n",
        "\n",
        "model.add(Dense(units = num_labels, activation=\"softmax\"))"
      ]
    },
    {
      "cell_type": "code",
      "execution_count": 38,
      "metadata": {
        "colab": {
          "base_uri": "https://localhost:8080/"
        },
        "id": "mEV7ORjLeUXp",
        "outputId": "c61e5055-d8e5-4ff5-bb76-9fca3ff36325"
      },
      "outputs": [
        {
          "output_type": "stream",
          "name": "stdout",
          "text": [
            "Model: \"sequential\"\n",
            "_________________________________________________________________\n",
            " Layer (type)                Output Shape              Param #   \n",
            "=================================================================\n",
            " conv2d (Conv2D)             (None, 40, 174, 64)       1664      \n",
            "                                                                 \n",
            " max_pooling2d (MaxPooling2D  (None, 20, 87, 64)       0         \n",
            " )                                                               \n",
            "                                                                 \n",
            " conv2d_1 (Conv2D)           (None, 20, 87, 128)       204928    \n",
            "                                                                 \n",
            " max_pooling2d_1 (MaxPooling  (None, 10, 44, 128)      0         \n",
            " 2D)                                                             \n",
            "                                                                 \n",
            " dropout (Dropout)           (None, 10, 44, 128)       0         \n",
            "                                                                 \n",
            " flatten (Flatten)           (None, 56320)             0         \n",
            "                                                                 \n",
            " dense (Dense)               (None, 256)               14418176  \n",
            "                                                                 \n",
            " dropout_1 (Dropout)         (None, 256)               0         \n",
            "                                                                 \n",
            " dense_1 (Dense)             (None, 512)               131584    \n",
            "                                                                 \n",
            " dropout_2 (Dropout)         (None, 512)               0         \n",
            "                                                                 \n",
            " dense_2 (Dense)             (None, 18)                9234      \n",
            "                                                                 \n",
            "=================================================================\n",
            "Total params: 14,765,586\n",
            "Trainable params: 14,765,586\n",
            "Non-trainable params: 0\n",
            "_________________________________________________________________\n"
          ]
        }
      ],
      "source": [
        "model.summary()"
      ]
    },
    {
      "cell_type": "code",
      "execution_count": 39,
      "metadata": {
        "id": "CkL1u6wZehsd"
      },
      "outputs": [],
      "source": [
        "model.compile(loss = 'categorical_crossentropy', \n",
        "              metrics = ['accuracy'],\n",
        "              optimizer = 'adam')"
      ]
    },
    {
      "cell_type": "code",
      "execution_count": 40,
      "metadata": {
        "colab": {
          "base_uri": "https://localhost:8080/"
        },
        "id": "eZUjinUBendt",
        "outputId": "9af4d122-09c2-4179-b966-514c1d8b8dfa"
      },
      "outputs": [
        {
          "output_type": "stream",
          "name": "stdout",
          "text": [
            "Epoch 1/300\n",
            "22/22 [==============================] - ETA: 0s - loss: 2.3478 - accuracy: 0.2004\n",
            "Epoch 00001: val_loss improved from inf to 1.91639, saving model to weights3.best.hdf5\n",
            "22/22 [==============================] - 12s 116ms/step - loss: 2.3478 - accuracy: 0.2004 - val_loss: 1.9164 - val_accuracy: 0.3511\n",
            "Epoch 2/300\n",
            "21/22 [===========================>..] - ETA: 0s - loss: 1.8084 - accuracy: 0.3875\n",
            "Epoch 00002: val_loss improved from 1.91639 to 1.48461, saving model to weights3.best.hdf5\n",
            "22/22 [==============================] - 2s 94ms/step - loss: 1.8067 - accuracy: 0.3885 - val_loss: 1.4846 - val_accuracy: 0.5132\n",
            "Epoch 3/300\n",
            "21/22 [===========================>..] - ETA: 0s - loss: 1.4927 - accuracy: 0.5138\n",
            "Epoch 00003: val_loss improved from 1.48461 to 1.24298, saving model to weights3.best.hdf5\n",
            "22/22 [==============================] - 2s 93ms/step - loss: 1.4911 - accuracy: 0.5143 - val_loss: 1.2430 - val_accuracy: 0.5969\n",
            "Epoch 4/300\n",
            "21/22 [===========================>..] - ETA: 0s - loss: 1.2257 - accuracy: 0.6017\n",
            "Epoch 00004: val_loss improved from 1.24298 to 1.08330, saving model to weights3.best.hdf5\n",
            "22/22 [==============================] - 2s 93ms/step - loss: 1.2236 - accuracy: 0.6024 - val_loss: 1.0833 - val_accuracy: 0.6545\n",
            "Epoch 5/300\n",
            "21/22 [===========================>..] - ETA: 0s - loss: 1.0564 - accuracy: 0.6590\n",
            "Epoch 00005: val_loss improved from 1.08330 to 0.98982, saving model to weights3.best.hdf5\n",
            "22/22 [==============================] - 2s 91ms/step - loss: 1.0580 - accuracy: 0.6586 - val_loss: 0.9898 - val_accuracy: 0.6701\n",
            "Epoch 6/300\n",
            "21/22 [===========================>..] - ETA: 0s - loss: 0.9344 - accuracy: 0.6929\n",
            "Epoch 00006: val_loss improved from 0.98982 to 0.89438, saving model to weights3.best.hdf5\n",
            "22/22 [==============================] - 2s 93ms/step - loss: 0.9336 - accuracy: 0.6931 - val_loss: 0.8944 - val_accuracy: 0.7136\n",
            "Epoch 7/300\n",
            "21/22 [===========================>..] - ETA: 0s - loss: 0.7955 - accuracy: 0.7357\n",
            "Epoch 00007: val_loss did not improve from 0.89438\n",
            "22/22 [==============================] - 2s 76ms/step - loss: 0.7934 - accuracy: 0.7365 - val_loss: 0.8987 - val_accuracy: 0.7037\n",
            "Epoch 8/300\n",
            "21/22 [===========================>..] - ETA: 0s - loss: 0.7308 - accuracy: 0.7537\n",
            "Epoch 00008: val_loss improved from 0.89438 to 0.85998, saving model to weights3.best.hdf5\n",
            "22/22 [==============================] - 2s 94ms/step - loss: 0.7330 - accuracy: 0.7530 - val_loss: 0.8600 - val_accuracy: 0.7235\n",
            "Epoch 9/300\n",
            "21/22 [===========================>..] - ETA: 0s - loss: 0.6466 - accuracy: 0.7759\n",
            "Epoch 00009: val_loss improved from 0.85998 to 0.83422, saving model to weights3.best.hdf5\n",
            "22/22 [==============================] - 2s 94ms/step - loss: 0.6456 - accuracy: 0.7758 - val_loss: 0.8342 - val_accuracy: 0.7264\n",
            "Epoch 10/300\n",
            "21/22 [===========================>..] - ETA: 0s - loss: 0.5695 - accuracy: 0.8029\n",
            "Epoch 00010: val_loss improved from 0.83422 to 0.79124, saving model to weights3.best.hdf5\n",
            "22/22 [==============================] - 2s 91ms/step - loss: 0.5692 - accuracy: 0.8029 - val_loss: 0.7912 - val_accuracy: 0.7443\n",
            "Epoch 11/300\n",
            "21/22 [===========================>..] - ETA: 0s - loss: 0.5012 - accuracy: 0.8316\n",
            "Epoch 00011: val_loss did not improve from 0.79124\n",
            "22/22 [==============================] - 2s 76ms/step - loss: 0.4991 - accuracy: 0.8322 - val_loss: 0.8162 - val_accuracy: 0.7358\n",
            "Epoch 12/300\n",
            "21/22 [===========================>..] - ETA: 0s - loss: 0.4753 - accuracy: 0.8373\n",
            "Epoch 00012: val_loss improved from 0.79124 to 0.78686, saving model to weights3.best.hdf5\n",
            "22/22 [==============================] - 2s 95ms/step - loss: 0.4750 - accuracy: 0.8374 - val_loss: 0.7869 - val_accuracy: 0.7576\n",
            "Epoch 13/300\n",
            "21/22 [===========================>..] - ETA: 0s - loss: 0.4301 - accuracy: 0.8516\n",
            "Epoch 00013: val_loss did not improve from 0.78686\n",
            "22/22 [==============================] - 2s 76ms/step - loss: 0.4307 - accuracy: 0.8513 - val_loss: 0.8956 - val_accuracy: 0.7453\n",
            "Epoch 14/300\n",
            "21/22 [===========================>..] - ETA: 0s - loss: 0.4606 - accuracy: 0.8414\n",
            "Epoch 00014: val_loss did not improve from 0.78686\n",
            "22/22 [==============================] - 2s 76ms/step - loss: 0.4601 - accuracy: 0.8418 - val_loss: 0.8994 - val_accuracy: 0.7420\n",
            "Epoch 15/300\n",
            "21/22 [===========================>..] - ETA: 0s - loss: 0.4027 - accuracy: 0.8598\n",
            "Epoch 00015: val_loss did not improve from 0.78686\n",
            "22/22 [==============================] - 2s 76ms/step - loss: 0.4031 - accuracy: 0.8595 - val_loss: 0.8669 - val_accuracy: 0.7500\n",
            "Epoch 16/300\n",
            "21/22 [===========================>..] - ETA: 0s - loss: 0.3705 - accuracy: 0.8673\n",
            "Epoch 00016: val_loss did not improve from 0.78686\n",
            "22/22 [==============================] - 2s 76ms/step - loss: 0.3697 - accuracy: 0.8675 - val_loss: 0.8224 - val_accuracy: 0.7680\n",
            "Epoch 17/300\n",
            "21/22 [===========================>..] - ETA: 0s - loss: 0.3244 - accuracy: 0.8875\n",
            "Epoch 00017: val_loss did not improve from 0.78686\n",
            "22/22 [==============================] - 2s 76ms/step - loss: 0.3257 - accuracy: 0.8871 - val_loss: 0.8505 - val_accuracy: 0.7599\n",
            "Epoch 18/300\n",
            "21/22 [===========================>..] - ETA: 0s - loss: 0.3182 - accuracy: 0.8914\n",
            "Epoch 00018: val_loss did not improve from 0.78686\n",
            "22/22 [==============================] - 2s 76ms/step - loss: 0.3174 - accuracy: 0.8916 - val_loss: 0.8689 - val_accuracy: 0.7561\n",
            "Epoch 19/300\n",
            "21/22 [===========================>..] - ETA: 0s - loss: 0.3134 - accuracy: 0.8887\n",
            "Epoch 00019: val_loss did not improve from 0.78686\n",
            "22/22 [==============================] - 2s 76ms/step - loss: 0.3139 - accuracy: 0.8888 - val_loss: 0.8898 - val_accuracy: 0.7599\n",
            "Epoch 20/300\n",
            "21/22 [===========================>..] - ETA: 0s - loss: 0.3065 - accuracy: 0.8894\n",
            "Epoch 00020: val_loss did not improve from 0.78686\n",
            "22/22 [==============================] - 2s 77ms/step - loss: 0.3074 - accuracy: 0.8889 - val_loss: 0.9133 - val_accuracy: 0.7434\n",
            "Epoch 21/300\n",
            "21/22 [===========================>..] - ETA: 0s - loss: 0.3201 - accuracy: 0.8849\n",
            "Epoch 00021: val_loss did not improve from 0.78686\n",
            "22/22 [==============================] - 2s 77ms/step - loss: 0.3189 - accuracy: 0.8852 - val_loss: 0.9335 - val_accuracy: 0.7613\n",
            "Epoch 22/300\n",
            "21/22 [===========================>..] - ETA: 0s - loss: 0.2848 - accuracy: 0.8935\n",
            "Epoch 00022: val_loss did not improve from 0.78686\n",
            "22/22 [==============================] - 2s 77ms/step - loss: 0.2856 - accuracy: 0.8930 - val_loss: 0.9285 - val_accuracy: 0.7637\n",
            "Epoch 23/300\n",
            "21/22 [===========================>..] - ETA: 0s - loss: 0.2708 - accuracy: 0.9016\n",
            "Epoch 00023: val_loss did not improve from 0.78686\n",
            "22/22 [==============================] - 2s 77ms/step - loss: 0.2706 - accuracy: 0.9017 - val_loss: 0.9480 - val_accuracy: 0.7613\n",
            "Epoch 24/300\n",
            "21/22 [===========================>..] - ETA: 0s - loss: 0.2585 - accuracy: 0.9038\n",
            "Epoch 00024: val_loss did not improve from 0.78686\n",
            "22/22 [==============================] - 2s 76ms/step - loss: 0.2598 - accuracy: 0.9036 - val_loss: 0.9776 - val_accuracy: 0.7632\n",
            "Epoch 25/300\n",
            "21/22 [===========================>..] - ETA: 0s - loss: 0.2555 - accuracy: 0.9062\n",
            "Epoch 00025: val_loss did not improve from 0.78686\n",
            "22/22 [==============================] - 2s 76ms/step - loss: 0.2550 - accuracy: 0.9064 - val_loss: 0.9683 - val_accuracy: 0.7675\n",
            "Epoch 26/300\n",
            "21/22 [===========================>..] - ETA: 0s - loss: 0.2589 - accuracy: 0.9022\n",
            "Epoch 00026: val_loss did not improve from 0.78686\n",
            "22/22 [==============================] - 2s 76ms/step - loss: 0.2594 - accuracy: 0.9023 - val_loss: 1.0220 - val_accuracy: 0.7580\n",
            "Epoch 27/300\n",
            "21/22 [===========================>..] - ETA: 0s - loss: 0.2532 - accuracy: 0.9032\n",
            "Epoch 00027: val_loss did not improve from 0.78686\n",
            "22/22 [==============================] - 2s 77ms/step - loss: 0.2527 - accuracy: 0.9031 - val_loss: 1.0668 - val_accuracy: 0.7604\n",
            "Epoch 28/300\n",
            "21/22 [===========================>..] - ETA: 0s - loss: 0.2467 - accuracy: 0.9052\n",
            "Epoch 00028: val_loss did not improve from 0.78686\n",
            "22/22 [==============================] - 2s 77ms/step - loss: 0.2482 - accuracy: 0.9050 - val_loss: 1.0218 - val_accuracy: 0.7547\n",
            "Epoch 29/300\n",
            "21/22 [===========================>..] - ETA: 0s - loss: 0.2473 - accuracy: 0.9038\n",
            "Epoch 00029: val_loss did not improve from 0.78686\n",
            "22/22 [==============================] - 2s 77ms/step - loss: 0.2471 - accuracy: 0.9037 - val_loss: 0.9843 - val_accuracy: 0.7599\n",
            "Epoch 30/300\n",
            "21/22 [===========================>..] - ETA: 0s - loss: 0.2309 - accuracy: 0.9110\n",
            "Epoch 00030: val_loss did not improve from 0.78686\n",
            "22/22 [==============================] - 2s 76ms/step - loss: 0.2312 - accuracy: 0.9110 - val_loss: 1.0629 - val_accuracy: 0.7576\n",
            "Epoch 31/300\n",
            "21/22 [===========================>..] - ETA: 0s - loss: 0.2556 - accuracy: 0.9027\n",
            "Epoch 00031: val_loss did not improve from 0.78686\n",
            "22/22 [==============================] - 2s 76ms/step - loss: 0.2558 - accuracy: 0.9026 - val_loss: 1.1201 - val_accuracy: 0.7495\n",
            "Epoch 32/300\n",
            "21/22 [===========================>..] - ETA: 0s - loss: 0.2665 - accuracy: 0.8987\n",
            "Epoch 00032: val_loss did not improve from 0.78686\n",
            "22/22 [==============================] - 2s 81ms/step - loss: 0.2668 - accuracy: 0.8984 - val_loss: 1.0371 - val_accuracy: 0.7538\n",
            "Epoch 33/300\n",
            "21/22 [===========================>..] - ETA: 0s - loss: 0.2668 - accuracy: 0.9005\n",
            "Epoch 00033: val_loss did not improve from 0.78686\n",
            "22/22 [==============================] - 2s 76ms/step - loss: 0.2660 - accuracy: 0.9006 - val_loss: 1.0418 - val_accuracy: 0.7618\n",
            "Epoch 34/300\n",
            "21/22 [===========================>..] - ETA: 0s - loss: 0.2340 - accuracy: 0.9051\n",
            "Epoch 00034: val_loss did not improve from 0.78686\n",
            "22/22 [==============================] - 2s 76ms/step - loss: 0.2348 - accuracy: 0.9050 - val_loss: 1.0286 - val_accuracy: 0.7561\n",
            "Epoch 35/300\n",
            "21/22 [===========================>..] - ETA: 0s - loss: 0.2250 - accuracy: 0.9133\n",
            "Epoch 00035: val_loss did not improve from 0.78686\n",
            "22/22 [==============================] - 2s 76ms/step - loss: 0.2247 - accuracy: 0.9132 - val_loss: 1.0289 - val_accuracy: 0.7647\n",
            "Epoch 36/300\n",
            "21/22 [===========================>..] - ETA: 0s - loss: 0.2188 - accuracy: 0.9146\n",
            "Epoch 00036: val_loss did not improve from 0.78686\n",
            "22/22 [==============================] - 2s 77ms/step - loss: 0.2183 - accuracy: 0.9148 - val_loss: 1.0577 - val_accuracy: 0.7623\n",
            "Epoch 37/300\n",
            "21/22 [===========================>..] - ETA: 0s - loss: 0.2111 - accuracy: 0.9160\n",
            "Epoch 00037: val_loss did not improve from 0.78686\n",
            "22/22 [==============================] - 2s 77ms/step - loss: 0.2110 - accuracy: 0.9160 - val_loss: 1.1002 - val_accuracy: 0.7642\n",
            "Epoch 38/300\n",
            "21/22 [===========================>..] - ETA: 0s - loss: 0.2140 - accuracy: 0.9152\n",
            "Epoch 00038: val_loss did not improve from 0.78686\n",
            "22/22 [==============================] - 2s 77ms/step - loss: 0.2139 - accuracy: 0.9152 - val_loss: 1.1741 - val_accuracy: 0.7533\n",
            "Epoch 39/300\n",
            "21/22 [===========================>..] - ETA: 0s - loss: 0.2174 - accuracy: 0.9113\n",
            "Epoch 00039: val_loss did not improve from 0.78686\n",
            "22/22 [==============================] - 2s 77ms/step - loss: 0.2167 - accuracy: 0.9116 - val_loss: 1.0636 - val_accuracy: 0.7632\n",
            "Epoch 40/300\n",
            "21/22 [===========================>..] - ETA: 0s - loss: 0.2139 - accuracy: 0.9141\n",
            "Epoch 00040: val_loss did not improve from 0.78686\n",
            "22/22 [==============================] - 2s 77ms/step - loss: 0.2144 - accuracy: 0.9140 - val_loss: 1.0910 - val_accuracy: 0.7561\n",
            "Epoch 41/300\n",
            "21/22 [===========================>..] - ETA: 0s - loss: 0.2198 - accuracy: 0.9125\n",
            "Epoch 00041: val_loss did not improve from 0.78686\n",
            "22/22 [==============================] - 2s 77ms/step - loss: 0.2194 - accuracy: 0.9129 - val_loss: 1.0900 - val_accuracy: 0.7599\n",
            "Epoch 00041: early stopping\n",
            "Training completed in time:  0:01:22.978491\n"
          ]
        }
      ],
      "source": [
        "es = EarlyStopping(monitor='val_accuracy', min_delta= 0.01 , patience= 25, verbose= 1, mode='auto')\n",
        "\n",
        "checkpointer = ModelCheckpoint(filepath='weights3.best.hdf5', \n",
        "                               verbose=1, save_best_only=True)\n",
        "start = datetime.now()\n",
        "\n",
        "\n",
        "model.fit(X_train2, y_train,\n",
        "          batch_size = 300, \n",
        "          epochs = 300,\n",
        "          validation_data = (X_val2, y_val), \n",
        "          callbacks=[checkpointer, es])\n",
        "\n",
        "duration = datetime.now() - start\n",
        "print(\"Training completed in time: \", duration)"
      ]
    },
    {
      "cell_type": "code",
      "execution_count": 41,
      "metadata": {
        "id": "po4hu4NLUJQ5",
        "outputId": "2937d411-88c3-48a6-8a81-d56e8fce74ae",
        "colab": {
          "base_uri": "https://localhost:8080/",
          "height": 328
        }
      },
      "outputs": [
        {
          "output_type": "execute_result",
          "data": {
            "text/plain": [
              "Text(0.5, 1.0, 'Training-Validation Accuracy')"
            ]
          },
          "metadata": {},
          "execution_count": 41
        },
        {
          "output_type": "display_data",
          "data": {
            "image/png": "[encoded data removed]",
            "text/plain": [
              "<Figure size 720x720 with 2 Axes>"
            ]
          },
          "metadata": {
            "needs_background": "light"
          }
        }
      ],
      "source": [
        "#saving the model history\n",
        "loss = pd.DataFrame(model.history.history)\n",
        "\n",
        "\n",
        "#plotting the loss and accuracy \n",
        "plt.figure(figsize=(10,10))\n",
        "\n",
        "plt.subplot(2,2,1)\n",
        "plt.plot(loss[\"loss\"], label =\"Loss\")\n",
        "plt.plot(loss[\"val_loss\"], label = \"Validation_loss\")\n",
        "plt.legend()\n",
        "plt.title(\"Training and Validation Loss\")\n",
        "\n",
        "plt.subplot(2,2,2)\n",
        "plt.plot(loss['accuracy'],label = \"Training Accuracy\")\n",
        "plt.plot(loss['val_accuracy'], label =\"Validation_ Accuracy \")\n",
        "plt.legend()\n",
        "plt.title(\"Training-Validation Accuracy\")"
      ]
    },
    {
      "cell_type": "code",
      "execution_count": 42,
      "metadata": {
        "id": "r5hvQFWDUJQ5",
        "outputId": "1225771a-e96f-454a-cec1-dffd1a5237c3",
        "colab": {
          "base_uri": "https://localhost:8080/"
        }
      },
      "outputs": [
        {
          "output_type": "stream",
          "name": "stdout",
          "text": [
            "[ 8 12 12 ... 11 10 10]\n"
          ]
        }
      ],
      "source": [
        "prediction = model.predict(X_val2)\n",
        "\n",
        "# finding class with larget predicted probability using argmax of numpy \n",
        "y_pred = np.argmax(prediction, axis = 1)  # prediction using model \n",
        "y_val_orig = np.argmax(y_val, axis = 1) # original y_val\n",
        "print(y_pred)\n"
      ]
    },
    {
      "cell_type": "code",
      "execution_count": 43,
      "metadata": {
        "id": "2qdTnz-jUJQ5",
        "outputId": "b2eb558c-c535-4feb-b466-44a9d81dee99",
        "colab": {
          "base_uri": "https://localhost:8080/"
        }
      },
      "outputs": [
        {
          "output_type": "stream",
          "name": "stdout",
          "text": [
            "              precision    recall  f1-score   support\n",
            "\n",
            "           0       0.20      0.24      0.21        51\n",
            "           1       0.26      0.24      0.25        58\n",
            "           2       0.23      0.36      0.28        58\n",
            "           3       0.21      0.16      0.18        32\n",
            "           4       0.22      0.20      0.21        65\n",
            "           5       0.13      0.16      0.14        31\n",
            "           6       0.30      0.22      0.25        59\n",
            "           7       0.27      0.14      0.19        28\n",
            "           8       0.95      0.94      0.95       213\n",
            "           9       0.91      0.96      0.93        96\n",
            "          10       0.64      0.91      0.75       174\n",
            "          11       0.92      0.79      0.85       209\n",
            "          12       0.89      0.87      0.88       181\n",
            "          13       0.97      0.92      0.94       198\n",
            "          14       0.94      0.89      0.91        83\n",
            "          15       0.85      0.92      0.88       206\n",
            "          16       0.99      0.86      0.92       180\n",
            "          17       0.87      0.75      0.80       194\n",
            "\n",
            "    accuracy                           0.76      2116\n",
            "   macro avg       0.60      0.59      0.59      2116\n",
            "weighted avg       0.77      0.76      0.76      2116\n",
            "\n"
          ]
        }
      ],
      "source": [
        "print(classification_report(y_val_orig, y_pred))"
      ]
    },
    {
      "cell_type": "markdown",
      "metadata": {
        "id": "PHXYkmb-UJQ5"
      },
      "source": [
        "# EX2:"
      ]
    },
    {
      "cell_type": "code",
      "execution_count": 44,
      "metadata": {
        "id": "974idb-PUJQ5"
      },
      "outputs": [],
      "source": [
        "model2 = Sequential()\n",
        "\n",
        "\n",
        "model2.add(Conv2D(128, (5, 5), input_shape=input_shape,activation='relu', padding='same'))\n",
        "model2.add(MaxPooling2D(padding=\"same\"))\n",
        "\n",
        "model2.add(Conv2D(128,kernel_size=5,strides=1,padding=\"same\",activation=\"relu\"))\n",
        "model2.add(MaxPooling2D(padding=\"same\"))\n",
        "model2.add(Dropout(0.8))\n",
        "\n",
        "model2.add(Flatten())\n",
        "\n",
        "model2.add(Dense(512,activation=\"relu\"))\n",
        "model2.add(Dropout(0.8))\n",
        "\n",
        "model2.add(Dense(512,activation=\"relu\"))\n",
        "model2.add(Dropout(0.8))\n",
        "\n",
        "\n",
        "model2.add(Dense(units = num_labels, activation=\"softmax\"))"
      ]
    },
    {
      "cell_type": "code",
      "execution_count": 45,
      "metadata": {
        "id": "WbRfBKUGUJQ6",
        "outputId": "658c7516-5e35-42fc-b66d-609c0b28ee94",
        "colab": {
          "base_uri": "https://localhost:8080/"
        }
      },
      "outputs": [
        {
          "output_type": "stream",
          "name": "stdout",
          "text": [
            "Model: \"sequential_1\"\n",
            "_________________________________________________________________\n",
            " Layer (type)                Output Shape              Param #   \n",
            "=================================================================\n",
            " conv2d_2 (Conv2D)           (None, 40, 174, 128)      3328      \n",
            "                                                                 \n",
            " max_pooling2d_2 (MaxPooling  (None, 20, 87, 128)      0         \n",
            " 2D)                                                             \n",
            "                                                                 \n",
            " conv2d_3 (Conv2D)           (None, 20, 87, 128)       409728    \n",
            "                                                                 \n",
            " max_pooling2d_3 (MaxPooling  (None, 10, 44, 128)      0         \n",
            " 2D)                                                             \n",
            "                                                                 \n",
            " dropout_3 (Dropout)         (None, 10, 44, 128)       0         \n",
            "                                                                 \n",
            " flatten_1 (Flatten)         (None, 56320)             0         \n",
            "                                                                 \n",
            " dense_3 (Dense)             (None, 512)               28836352  \n",
            "                                                                 \n",
            " dropout_4 (Dropout)         (None, 512)               0         \n",
            "                                                                 \n",
            " dense_4 (Dense)             (None, 512)               262656    \n",
            "                                                                 \n",
            " dropout_5 (Dropout)         (None, 512)               0         \n",
            "                                                                 \n",
            " dense_5 (Dense)             (None, 18)                9234      \n",
            "                                                                 \n",
            "=================================================================\n",
            "Total params: 29,521,298\n",
            "Trainable params: 29,521,298\n",
            "Non-trainable params: 0\n",
            "_________________________________________________________________\n"
          ]
        }
      ],
      "source": [
        "model2.summary()"
      ]
    },
    {
      "cell_type": "code",
      "execution_count": 46,
      "metadata": {
        "id": "2aXSttU-UJQ6"
      },
      "outputs": [],
      "source": [
        "model2.compile(loss = 'categorical_crossentropy', \n",
        "              metrics = ['accuracy'],\n",
        "              optimizer = 'adam')"
      ]
    },
    {
      "cell_type": "code",
      "execution_count": 47,
      "metadata": {
        "id": "FOrheSUxUJQ6",
        "outputId": "5cc2d7bc-53bd-461d-e0b9-cb429dbb799d",
        "colab": {
          "base_uri": "https://localhost:8080/"
        }
      },
      "outputs": [
        {
          "output_type": "stream",
          "name": "stdout",
          "text": [
            "Epoch 1/300\n",
            "22/22 [==============================] - ETA: 0s - loss: 2.6841 - accuracy: 0.1079\n",
            "Epoch 00001: val_loss improved from inf to 2.44072, saving model to weights4.best.hdf5\n",
            "22/22 [==============================] - 5s 187ms/step - loss: 2.6841 - accuracy: 0.1079 - val_loss: 2.4407 - val_accuracy: 0.2117\n",
            "Epoch 2/300\n",
            "21/22 [===========================>..] - ETA: 0s - loss: 2.4290 - accuracy: 0.1778\n",
            "Epoch 00002: val_loss improved from 2.44072 to 2.24945, saving model to weights4.best.hdf5\n",
            "22/22 [==============================] - 3s 150ms/step - loss: 2.4273 - accuracy: 0.1786 - val_loss: 2.2494 - val_accuracy: 0.2963\n",
            "Epoch 3/300\n",
            "21/22 [===========================>..] - ETA: 0s - loss: 2.2379 - accuracy: 0.2643\n",
            "Epoch 00003: val_loss improved from 2.24945 to 1.99058, saving model to weights4.best.hdf5\n",
            "22/22 [==============================] - 3s 153ms/step - loss: 2.2379 - accuracy: 0.2645 - val_loss: 1.9906 - val_accuracy: 0.3743\n",
            "Epoch 4/300\n",
            "21/22 [===========================>..] - ETA: 0s - loss: 2.0699 - accuracy: 0.3265\n",
            "Epoch 00004: val_loss improved from 1.99058 to 1.81369, saving model to weights4.best.hdf5\n",
            "22/22 [==============================] - 3s 153ms/step - loss: 2.0687 - accuracy: 0.3269 - val_loss: 1.8137 - val_accuracy: 0.4041\n",
            "Epoch 5/300\n",
            "21/22 [===========================>..] - ETA: 0s - loss: 1.9386 - accuracy: 0.3710\n",
            "Epoch 00005: val_loss improved from 1.81369 to 1.70993, saving model to weights4.best.hdf5\n",
            "22/22 [==============================] - 3s 154ms/step - loss: 1.9375 - accuracy: 0.3713 - val_loss: 1.7099 - val_accuracy: 0.4386\n",
            "Epoch 6/300\n",
            "21/22 [===========================>..] - ETA: 0s - loss: 1.8342 - accuracy: 0.4078\n",
            "Epoch 00006: val_loss improved from 1.70993 to 1.56912, saving model to weights4.best.hdf5\n",
            "22/22 [==============================] - 3s 152ms/step - loss: 1.8348 - accuracy: 0.4075 - val_loss: 1.5691 - val_accuracy: 0.5123\n",
            "Epoch 7/300\n",
            "21/22 [===========================>..] - ETA: 0s - loss: 1.7347 - accuracy: 0.4443\n",
            "Epoch 00007: val_loss improved from 1.56912 to 1.50777, saving model to weights4.best.hdf5\n",
            "22/22 [==============================] - 3s 154ms/step - loss: 1.7338 - accuracy: 0.4444 - val_loss: 1.5078 - val_accuracy: 0.5510\n",
            "Epoch 8/300\n",
            "21/22 [===========================>..] - ETA: 0s - loss: 1.6364 - accuracy: 0.4748\n",
            "Epoch 00008: val_loss improved from 1.50777 to 1.42808, saving model to weights4.best.hdf5\n",
            "22/22 [==============================] - 3s 152ms/step - loss: 1.6387 - accuracy: 0.4746 - val_loss: 1.4281 - val_accuracy: 0.5619\n",
            "Epoch 9/300\n",
            "21/22 [===========================>..] - ETA: 0s - loss: 1.5642 - accuracy: 0.4916\n",
            "Epoch 00009: val_loss improved from 1.42808 to 1.33618, saving model to weights4.best.hdf5\n",
            "22/22 [==============================] - 3s 151ms/step - loss: 1.5673 - accuracy: 0.4912 - val_loss: 1.3362 - val_accuracy: 0.5884\n",
            "Epoch 10/300\n",
            "21/22 [===========================>..] - ETA: 0s - loss: 1.4830 - accuracy: 0.5243\n",
            "Epoch 00010: val_loss improved from 1.33618 to 1.25311, saving model to weights4.best.hdf5\n",
            "22/22 [==============================] - 3s 151ms/step - loss: 1.4820 - accuracy: 0.5247 - val_loss: 1.2531 - val_accuracy: 0.6035\n",
            "Epoch 11/300\n",
            "21/22 [===========================>..] - ETA: 0s - loss: 1.4518 - accuracy: 0.5330\n",
            "Epoch 00011: val_loss improved from 1.25311 to 1.20137, saving model to weights4.best.hdf5\n",
            "22/22 [==============================] - 3s 154ms/step - loss: 1.4501 - accuracy: 0.5337 - val_loss: 1.2014 - val_accuracy: 0.6347\n",
            "Epoch 12/300\n",
            "21/22 [===========================>..] - ETA: 0s - loss: 1.3920 - accuracy: 0.5621\n",
            "Epoch 00012: val_loss improved from 1.20137 to 1.19100, saving model to weights4.best.hdf5\n",
            "22/22 [==============================] - 3s 152ms/step - loss: 1.3931 - accuracy: 0.5613 - val_loss: 1.1910 - val_accuracy: 0.6361\n",
            "Epoch 13/300\n",
            "21/22 [===========================>..] - ETA: 0s - loss: 1.3167 - accuracy: 0.5817\n",
            "Epoch 00013: val_loss improved from 1.19100 to 1.12773, saving model to weights4.best.hdf5\n",
            "22/22 [==============================] - 3s 153ms/step - loss: 1.3162 - accuracy: 0.5816 - val_loss: 1.1277 - val_accuracy: 0.6602\n",
            "Epoch 14/300\n",
            "21/22 [===========================>..] - ETA: 0s - loss: 1.2862 - accuracy: 0.5897\n",
            "Epoch 00014: val_loss improved from 1.12773 to 1.11403, saving model to weights4.best.hdf5\n",
            "22/22 [==============================] - 3s 154ms/step - loss: 1.2859 - accuracy: 0.5890 - val_loss: 1.1140 - val_accuracy: 0.6560\n",
            "Epoch 15/300\n",
            "21/22 [===========================>..] - ETA: 0s - loss: 1.2355 - accuracy: 0.6098\n",
            "Epoch 00015: val_loss improved from 1.11403 to 1.08935, saving model to weights4.best.hdf5\n",
            "22/22 [==============================] - 3s 153ms/step - loss: 1.2354 - accuracy: 0.6096 - val_loss: 1.0893 - val_accuracy: 0.6706\n",
            "Epoch 16/300\n",
            "21/22 [===========================>..] - ETA: 0s - loss: 1.1902 - accuracy: 0.6202\n",
            "Epoch 00016: val_loss improved from 1.08935 to 1.02488, saving model to weights4.best.hdf5\n",
            "22/22 [==============================] - 3s 152ms/step - loss: 1.1894 - accuracy: 0.6205 - val_loss: 1.0249 - val_accuracy: 0.6753\n",
            "Epoch 17/300\n",
            "21/22 [===========================>..] - ETA: 0s - loss: 1.1854 - accuracy: 0.6217\n",
            "Epoch 00017: val_loss improved from 1.02488 to 1.00765, saving model to weights4.best.hdf5\n",
            "22/22 [==============================] - 3s 153ms/step - loss: 1.1842 - accuracy: 0.6226 - val_loss: 1.0077 - val_accuracy: 0.6862\n",
            "Epoch 18/300\n",
            "21/22 [===========================>..] - ETA: 0s - loss: 1.1283 - accuracy: 0.6383\n",
            "Epoch 00018: val_loss improved from 1.00765 to 0.97938, saving model to weights4.best.hdf5\n",
            "22/22 [==============================] - 3s 153ms/step - loss: 1.1284 - accuracy: 0.6388 - val_loss: 0.9794 - val_accuracy: 0.6876\n",
            "Epoch 19/300\n",
            "21/22 [===========================>..] - ETA: 0s - loss: 1.1389 - accuracy: 0.6383\n",
            "Epoch 00019: val_loss did not improve from 0.97938\n",
            "22/22 [==============================] - 3s 123ms/step - loss: 1.1372 - accuracy: 0.6386 - val_loss: 0.9893 - val_accuracy: 0.6834\n",
            "Epoch 20/300\n",
            "21/22 [===========================>..] - ETA: 0s - loss: 1.0731 - accuracy: 0.6546\n",
            "Epoch 00020: val_loss improved from 0.97938 to 0.95724, saving model to weights4.best.hdf5\n",
            "22/22 [==============================] - 3s 154ms/step - loss: 1.0739 - accuracy: 0.6544 - val_loss: 0.9572 - val_accuracy: 0.6909\n",
            "Epoch 21/300\n",
            "21/22 [===========================>..] - ETA: 0s - loss: 1.0609 - accuracy: 0.6602\n",
            "Epoch 00021: val_loss improved from 0.95724 to 0.93966, saving model to weights4.best.hdf5\n",
            "22/22 [==============================] - 3s 153ms/step - loss: 1.0620 - accuracy: 0.6597 - val_loss: 0.9397 - val_accuracy: 0.6999\n",
            "Epoch 22/300\n",
            "21/22 [===========================>..] - ETA: 0s - loss: 1.0451 - accuracy: 0.6654\n",
            "Epoch 00022: val_loss improved from 0.93966 to 0.91131, saving model to weights4.best.hdf5\n",
            "22/22 [==============================] - 3s 154ms/step - loss: 1.0435 - accuracy: 0.6660 - val_loss: 0.9113 - val_accuracy: 0.6999\n",
            "Epoch 23/300\n",
            "21/22 [===========================>..] - ETA: 0s - loss: 1.0100 - accuracy: 0.6729\n",
            "Epoch 00023: val_loss improved from 0.91131 to 0.90669, saving model to weights4.best.hdf5\n",
            "22/22 [==============================] - 3s 151ms/step - loss: 1.0108 - accuracy: 0.6728 - val_loss: 0.9067 - val_accuracy: 0.7079\n",
            "Epoch 24/300\n",
            "21/22 [===========================>..] - ETA: 0s - loss: 1.0047 - accuracy: 0.6741\n",
            "Epoch 00024: val_loss improved from 0.90669 to 0.87071, saving model to weights4.best.hdf5\n",
            "22/22 [==============================] - 3s 152ms/step - loss: 1.0072 - accuracy: 0.6734 - val_loss: 0.8707 - val_accuracy: 0.7160\n",
            "Epoch 25/300\n",
            "21/22 [===========================>..] - ETA: 0s - loss: 0.9917 - accuracy: 0.6770\n",
            "Epoch 00025: val_loss improved from 0.87071 to 0.86604, saving model to weights4.best.hdf5\n",
            "22/22 [==============================] - 3s 152ms/step - loss: 0.9912 - accuracy: 0.6777 - val_loss: 0.8660 - val_accuracy: 0.7131\n",
            "Epoch 26/300\n",
            "21/22 [===========================>..] - ETA: 0s - loss: 0.9428 - accuracy: 0.6913\n",
            "Epoch 00026: val_loss did not improve from 0.86604\n",
            "22/22 [==============================] - 3s 123ms/step - loss: 0.9432 - accuracy: 0.6914 - val_loss: 0.8686 - val_accuracy: 0.7174\n",
            "Epoch 27/300\n",
            "21/22 [===========================>..] - ETA: 0s - loss: 0.9586 - accuracy: 0.6854\n",
            "Epoch 00027: val_loss improved from 0.86604 to 0.86075, saving model to weights4.best.hdf5\n",
            "22/22 [==============================] - 3s 151ms/step - loss: 0.9593 - accuracy: 0.6853 - val_loss: 0.8607 - val_accuracy: 0.7127\n",
            "Epoch 28/300\n",
            "21/22 [===========================>..] - ETA: 0s - loss: 0.9635 - accuracy: 0.6870\n",
            "Epoch 00028: val_loss improved from 0.86075 to 0.85361, saving model to weights4.best.hdf5\n",
            "22/22 [==============================] - 3s 153ms/step - loss: 0.9691 - accuracy: 0.6862 - val_loss: 0.8536 - val_accuracy: 0.7127\n",
            "Epoch 29/300\n",
            "21/22 [===========================>..] - ETA: 0s - loss: 0.9715 - accuracy: 0.6856\n",
            "Epoch 00029: val_loss did not improve from 0.85361\n",
            "22/22 [==============================] - 3s 123ms/step - loss: 0.9714 - accuracy: 0.6856 - val_loss: 0.8648 - val_accuracy: 0.7150\n",
            "Epoch 30/300\n",
            "21/22 [===========================>..] - ETA: 0s - loss: 0.9390 - accuracy: 0.6965\n",
            "Epoch 00030: val_loss improved from 0.85361 to 0.85134, saving model to weights4.best.hdf5\n",
            "22/22 [==============================] - 3s 155ms/step - loss: 0.9399 - accuracy: 0.6963 - val_loss: 0.8513 - val_accuracy: 0.7070\n",
            "Epoch 31/300\n",
            "21/22 [===========================>..] - ETA: 0s - loss: 0.9128 - accuracy: 0.7003\n",
            "Epoch 00031: val_loss improved from 0.85134 to 0.83129, saving model to weights4.best.hdf5\n",
            "22/22 [==============================] - 3s 154ms/step - loss: 0.9166 - accuracy: 0.6990 - val_loss: 0.8313 - val_accuracy: 0.7231\n",
            "Epoch 32/300\n",
            "21/22 [===========================>..] - ETA: 0s - loss: 0.8637 - accuracy: 0.7108\n",
            "Epoch 00032: val_loss improved from 0.83129 to 0.82924, saving model to weights4.best.hdf5\n",
            "22/22 [==============================] - 3s 152ms/step - loss: 0.8617 - accuracy: 0.7116 - val_loss: 0.8292 - val_accuracy: 0.7212\n",
            "Epoch 33/300\n",
            "21/22 [===========================>..] - ETA: 0s - loss: 0.8572 - accuracy: 0.7232\n",
            "Epoch 00033: val_loss did not improve from 0.82924\n",
            "22/22 [==============================] - 3s 123ms/step - loss: 0.8596 - accuracy: 0.7226 - val_loss: 0.8628 - val_accuracy: 0.7127\n",
            "Epoch 34/300\n",
            "21/22 [===========================>..] - ETA: 0s - loss: 0.8734 - accuracy: 0.7152\n",
            "Epoch 00034: val_loss improved from 0.82924 to 0.82345, saving model to weights4.best.hdf5\n",
            "22/22 [==============================] - 3s 154ms/step - loss: 0.8727 - accuracy: 0.7150 - val_loss: 0.8234 - val_accuracy: 0.7273\n",
            "Epoch 35/300\n",
            "21/22 [===========================>..] - ETA: 0s - loss: 0.8512 - accuracy: 0.7175\n",
            "Epoch 00035: val_loss did not improve from 0.82345\n",
            "22/22 [==============================] - 3s 123ms/step - loss: 0.8508 - accuracy: 0.7179 - val_loss: 0.8385 - val_accuracy: 0.7231\n",
            "Epoch 36/300\n",
            "21/22 [===========================>..] - ETA: 0s - loss: 0.8309 - accuracy: 0.7300\n",
            "Epoch 00036: val_loss improved from 0.82345 to 0.80082, saving model to weights4.best.hdf5\n",
            "22/22 [==============================] - 3s 151ms/step - loss: 0.8307 - accuracy: 0.7302 - val_loss: 0.8008 - val_accuracy: 0.7353\n",
            "Epoch 37/300\n",
            "21/22 [===========================>..] - ETA: 0s - loss: 0.8060 - accuracy: 0.7300\n",
            "Epoch 00037: val_loss improved from 0.80082 to 0.80057, saving model to weights4.best.hdf5\n",
            "22/22 [==============================] - 3s 153ms/step - loss: 0.8054 - accuracy: 0.7303 - val_loss: 0.8006 - val_accuracy: 0.7353\n",
            "Epoch 38/300\n",
            "21/22 [===========================>..] - ETA: 0s - loss: 0.8457 - accuracy: 0.7259\n",
            "Epoch 00038: val_loss did not improve from 0.80057\n",
            "22/22 [==============================] - 3s 123ms/step - loss: 0.8445 - accuracy: 0.7265 - val_loss: 0.8045 - val_accuracy: 0.7320\n",
            "Epoch 39/300\n",
            "21/22 [===========================>..] - ETA: 0s - loss: 0.8337 - accuracy: 0.7267\n",
            "Epoch 00039: val_loss improved from 0.80057 to 0.79223, saving model to weights4.best.hdf5\n",
            "22/22 [==============================] - 3s 153ms/step - loss: 0.8333 - accuracy: 0.7270 - val_loss: 0.7922 - val_accuracy: 0.7264\n",
            "Epoch 40/300\n",
            "21/22 [===========================>..] - ETA: 0s - loss: 0.8077 - accuracy: 0.7352\n",
            "Epoch 00040: val_loss improved from 0.79223 to 0.79188, saving model to weights4.best.hdf5\n",
            "22/22 [==============================] - 3s 155ms/step - loss: 0.8073 - accuracy: 0.7346 - val_loss: 0.7919 - val_accuracy: 0.7268\n",
            "Epoch 41/300\n",
            "21/22 [===========================>..] - ETA: 0s - loss: 0.8373 - accuracy: 0.7262\n",
            "Epoch 00041: val_loss improved from 0.79188 to 0.78790, saving model to weights4.best.hdf5\n",
            "22/22 [==============================] - 3s 151ms/step - loss: 0.8383 - accuracy: 0.7261 - val_loss: 0.7879 - val_accuracy: 0.7311\n",
            "Epoch 42/300\n",
            "21/22 [===========================>..] - ETA: 0s - loss: 0.7855 - accuracy: 0.7381\n",
            "Epoch 00042: val_loss improved from 0.78790 to 0.78296, saving model to weights4.best.hdf5\n",
            "22/22 [==============================] - 3s 153ms/step - loss: 0.7846 - accuracy: 0.7382 - val_loss: 0.7830 - val_accuracy: 0.7377\n",
            "Epoch 43/300\n",
            "21/22 [===========================>..] - ETA: 0s - loss: 0.7864 - accuracy: 0.7413\n",
            "Epoch 00043: val_loss did not improve from 0.78296\n",
            "22/22 [==============================] - 3s 123ms/step - loss: 0.7873 - accuracy: 0.7404 - val_loss: 0.7939 - val_accuracy: 0.7325\n",
            "Epoch 44/300\n",
            "21/22 [===========================>..] - ETA: 0s - loss: 0.7727 - accuracy: 0.7459\n",
            "Epoch 00044: val_loss improved from 0.78296 to 0.77905, saving model to weights4.best.hdf5\n",
            "22/22 [==============================] - 3s 154ms/step - loss: 0.7727 - accuracy: 0.7456 - val_loss: 0.7791 - val_accuracy: 0.7382\n",
            "Epoch 45/300\n",
            "21/22 [===========================>..] - ETA: 0s - loss: 0.7689 - accuracy: 0.7405\n",
            "Epoch 00045: val_loss did not improve from 0.77905\n",
            "22/22 [==============================] - 3s 123ms/step - loss: 0.7679 - accuracy: 0.7405 - val_loss: 0.7954 - val_accuracy: 0.7363\n",
            "Epoch 46/300\n",
            "21/22 [===========================>..] - ETA: 0s - loss: 0.7642 - accuracy: 0.7437\n",
            "Epoch 00046: val_loss did not improve from 0.77905\n",
            "22/22 [==============================] - 3s 124ms/step - loss: 0.7664 - accuracy: 0.7429 - val_loss: 0.7817 - val_accuracy: 0.7405\n",
            "Epoch 47/300\n",
            "21/22 [===========================>..] - ETA: 0s - loss: 0.7517 - accuracy: 0.7444\n",
            "Epoch 00047: val_loss did not improve from 0.77905\n",
            "22/22 [==============================] - 3s 123ms/step - loss: 0.7511 - accuracy: 0.7446 - val_loss: 0.7954 - val_accuracy: 0.7368\n",
            "Epoch 48/300\n",
            "21/22 [===========================>..] - ETA: 0s - loss: 0.7684 - accuracy: 0.7454\n",
            "Epoch 00048: val_loss did not improve from 0.77905\n",
            "22/22 [==============================] - 3s 123ms/step - loss: 0.7681 - accuracy: 0.7454 - val_loss: 0.7818 - val_accuracy: 0.7363\n",
            "Epoch 49/300\n",
            "21/22 [===========================>..] - ETA: 0s - loss: 0.7478 - accuracy: 0.7506\n",
            "Epoch 00049: val_loss improved from 0.77905 to 0.76633, saving model to weights4.best.hdf5\n",
            "22/22 [==============================] - 3s 153ms/step - loss: 0.7461 - accuracy: 0.7511 - val_loss: 0.7663 - val_accuracy: 0.7344\n",
            "Epoch 50/300\n",
            "21/22 [===========================>..] - ETA: 0s - loss: 0.7656 - accuracy: 0.7443\n",
            "Epoch 00050: val_loss did not improve from 0.76633\n",
            "22/22 [==============================] - 3s 123ms/step - loss: 0.7646 - accuracy: 0.7450 - val_loss: 0.7678 - val_accuracy: 0.7382\n",
            "Epoch 51/300\n",
            "21/22 [===========================>..] - ETA: 0s - loss: 0.7380 - accuracy: 0.7522\n",
            "Epoch 00051: val_loss improved from 0.76633 to 0.76072, saving model to weights4.best.hdf5\n",
            "22/22 [==============================] - 3s 153ms/step - loss: 0.7374 - accuracy: 0.7525 - val_loss: 0.7607 - val_accuracy: 0.7476\n",
            "Epoch 52/300\n",
            "21/22 [===========================>..] - ETA: 0s - loss: 0.7435 - accuracy: 0.7527\n",
            "Epoch 00052: val_loss did not improve from 0.76072\n",
            "22/22 [==============================] - 3s 123ms/step - loss: 0.7427 - accuracy: 0.7525 - val_loss: 0.7693 - val_accuracy: 0.7457\n",
            "Epoch 53/300\n",
            "21/22 [===========================>..] - ETA: 0s - loss: 0.7548 - accuracy: 0.7486\n",
            "Epoch 00053: val_loss did not improve from 0.76072\n",
            "22/22 [==============================] - 3s 123ms/step - loss: 0.7539 - accuracy: 0.7487 - val_loss: 0.7841 - val_accuracy: 0.7358\n",
            "Epoch 54/300\n",
            "21/22 [===========================>..] - ETA: 0s - loss: 0.7091 - accuracy: 0.7587\n",
            "Epoch 00054: val_loss did not improve from 0.76072\n",
            "22/22 [==============================] - 3s 123ms/step - loss: 0.7099 - accuracy: 0.7587 - val_loss: 0.7767 - val_accuracy: 0.7316\n",
            "Epoch 55/300\n",
            "21/22 [===========================>..] - ETA: 0s - loss: 0.7372 - accuracy: 0.7543\n",
            "Epoch 00055: val_loss improved from 0.76072 to 0.75280, saving model to weights4.best.hdf5\n",
            "22/22 [==============================] - 3s 152ms/step - loss: 0.7401 - accuracy: 0.7533 - val_loss: 0.7528 - val_accuracy: 0.7391\n",
            "Epoch 56/300\n",
            "21/22 [===========================>..] - ETA: 0s - loss: 0.7259 - accuracy: 0.7581\n",
            "Epoch 00056: val_loss improved from 0.75280 to 0.74018, saving model to weights4.best.hdf5\n",
            "22/22 [==============================] - 3s 154ms/step - loss: 0.7262 - accuracy: 0.7579 - val_loss: 0.7402 - val_accuracy: 0.7448\n",
            "Epoch 57/300\n",
            "21/22 [===========================>..] - ETA: 0s - loss: 0.7107 - accuracy: 0.7614\n",
            "Epoch 00057: val_loss did not improve from 0.74018\n",
            "22/22 [==============================] - 3s 123ms/step - loss: 0.7101 - accuracy: 0.7617 - val_loss: 0.7589 - val_accuracy: 0.7457\n",
            "Epoch 58/300\n",
            "21/22 [===========================>..] - ETA: 0s - loss: 0.6998 - accuracy: 0.7606\n",
            "Epoch 00058: val_loss improved from 0.74018 to 0.73826, saving model to weights4.best.hdf5\n",
            "22/22 [==============================] - 3s 156ms/step - loss: 0.6991 - accuracy: 0.7607 - val_loss: 0.7383 - val_accuracy: 0.7505\n",
            "Epoch 59/300\n",
            "21/22 [===========================>..] - ETA: 0s - loss: 0.6842 - accuracy: 0.7695\n",
            "Epoch 00059: val_loss did not improve from 0.73826\n",
            "22/22 [==============================] - 3s 123ms/step - loss: 0.6856 - accuracy: 0.7695 - val_loss: 0.7499 - val_accuracy: 0.7420\n",
            "Epoch 60/300\n",
            "21/22 [===========================>..] - ETA: 0s - loss: 0.7028 - accuracy: 0.7730\n",
            "Epoch 00060: val_loss did not improve from 0.73826\n",
            "22/22 [==============================] - 3s 123ms/step - loss: 0.7038 - accuracy: 0.7728 - val_loss: 0.7560 - val_accuracy: 0.7429\n",
            "Epoch 61/300\n",
            "21/22 [===========================>..] - ETA: 0s - loss: 0.6821 - accuracy: 0.7778\n",
            "Epoch 00061: val_loss did not improve from 0.73826\n",
            "22/22 [==============================] - 3s 123ms/step - loss: 0.6814 - accuracy: 0.7776 - val_loss: 0.7495 - val_accuracy: 0.7462\n",
            "Epoch 62/300\n",
            "21/22 [===========================>..] - ETA: 0s - loss: 0.6858 - accuracy: 0.7663\n",
            "Epoch 00062: val_loss did not improve from 0.73826\n",
            "22/22 [==============================] - 3s 123ms/step - loss: 0.6840 - accuracy: 0.7670 - val_loss: 0.7508 - val_accuracy: 0.7472\n",
            "Epoch 63/300\n",
            "21/22 [===========================>..] - ETA: 0s - loss: 0.6785 - accuracy: 0.7708\n",
            "Epoch 00063: val_loss improved from 0.73826 to 0.73378, saving model to weights4.best.hdf5\n",
            "22/22 [==============================] - 3s 155ms/step - loss: 0.6782 - accuracy: 0.7710 - val_loss: 0.7338 - val_accuracy: 0.7538\n",
            "Epoch 64/300\n",
            "21/22 [===========================>..] - ETA: 0s - loss: 0.6756 - accuracy: 0.7721\n",
            "Epoch 00064: val_loss did not improve from 0.73378\n",
            "22/22 [==============================] - 3s 123ms/step - loss: 0.6760 - accuracy: 0.7719 - val_loss: 0.7474 - val_accuracy: 0.7486\n",
            "Epoch 65/300\n",
            "21/22 [===========================>..] - ETA: 0s - loss: 0.6897 - accuracy: 0.7684\n",
            "Epoch 00065: val_loss did not improve from 0.73378\n",
            "22/22 [==============================] - 3s 123ms/step - loss: 0.6885 - accuracy: 0.7692 - val_loss: 0.7480 - val_accuracy: 0.7524\n",
            "Epoch 66/300\n",
            "21/22 [===========================>..] - ETA: 0s - loss: 0.6796 - accuracy: 0.7695\n",
            "Epoch 00066: val_loss did not improve from 0.73378\n",
            "22/22 [==============================] - 3s 123ms/step - loss: 0.6780 - accuracy: 0.7702 - val_loss: 0.7566 - val_accuracy: 0.7457\n",
            "Epoch 67/300\n",
            "21/22 [===========================>..] - ETA: 0s - loss: 0.6756 - accuracy: 0.7689\n",
            "Epoch 00067: val_loss did not improve from 0.73378\n",
            "22/22 [==============================] - 3s 122ms/step - loss: 0.6737 - accuracy: 0.7695 - val_loss: 0.7571 - val_accuracy: 0.7509\n",
            "Epoch 68/300\n",
            "21/22 [===========================>..] - ETA: 0s - loss: 0.6565 - accuracy: 0.7811\n",
            "Epoch 00068: val_loss did not improve from 0.73378\n",
            "22/22 [==============================] - 3s 123ms/step - loss: 0.6571 - accuracy: 0.7809 - val_loss: 0.7369 - val_accuracy: 0.7576\n",
            "Epoch 69/300\n",
            "21/22 [===========================>..] - ETA: 0s - loss: 0.6568 - accuracy: 0.7789\n",
            "Epoch 00069: val_loss improved from 0.73378 to 0.72756, saving model to weights4.best.hdf5\n",
            "22/22 [==============================] - 3s 155ms/step - loss: 0.6559 - accuracy: 0.7793 - val_loss: 0.7276 - val_accuracy: 0.7599\n",
            "Epoch 70/300\n",
            "21/22 [===========================>..] - ETA: 0s - loss: 0.6426 - accuracy: 0.7856\n",
            "Epoch 00070: val_loss did not improve from 0.72756\n",
            "22/22 [==============================] - 3s 123ms/step - loss: 0.6422 - accuracy: 0.7858 - val_loss: 0.7542 - val_accuracy: 0.7434\n",
            "Epoch 71/300\n",
            "21/22 [===========================>..] - ETA: 0s - loss: 0.6324 - accuracy: 0.7875\n",
            "Epoch 00071: val_loss did not improve from 0.72756\n",
            "22/22 [==============================] - 3s 123ms/step - loss: 0.6322 - accuracy: 0.7873 - val_loss: 0.7657 - val_accuracy: 0.7462\n",
            "Epoch 72/300\n",
            "21/22 [===========================>..] - ETA: 0s - loss: 0.6510 - accuracy: 0.7752\n",
            "Epoch 00072: val_loss did not improve from 0.72756\n",
            "22/22 [==============================] - 3s 123ms/step - loss: 0.6497 - accuracy: 0.7757 - val_loss: 0.7652 - val_accuracy: 0.7571\n",
            "Epoch 73/300\n",
            "21/22 [===========================>..] - ETA: 0s - loss: 0.6273 - accuracy: 0.7895\n",
            "Epoch 00073: val_loss did not improve from 0.72756\n",
            "22/22 [==============================] - 3s 123ms/step - loss: 0.6254 - accuracy: 0.7903 - val_loss: 0.7353 - val_accuracy: 0.7590\n",
            "Epoch 74/300\n",
            "21/22 [===========================>..] - ETA: 0s - loss: 0.6186 - accuracy: 0.7875\n",
            "Epoch 00074: val_loss did not improve from 0.72756\n",
            "22/22 [==============================] - 3s 123ms/step - loss: 0.6170 - accuracy: 0.7883 - val_loss: 0.7432 - val_accuracy: 0.7495\n",
            "Epoch 75/300\n",
            "21/22 [===========================>..] - ETA: 0s - loss: 0.6243 - accuracy: 0.7908\n",
            "Epoch 00075: val_loss did not improve from 0.72756\n",
            "22/22 [==============================] - 3s 123ms/step - loss: 0.6252 - accuracy: 0.7905 - val_loss: 0.7374 - val_accuracy: 0.7505\n",
            "Epoch 76/300\n",
            "21/22 [===========================>..] - ETA: 0s - loss: 0.6365 - accuracy: 0.7873\n",
            "Epoch 00076: val_loss improved from 0.72756 to 0.72147, saving model to weights4.best.hdf5\n",
            "22/22 [==============================] - 3s 153ms/step - loss: 0.6359 - accuracy: 0.7872 - val_loss: 0.7215 - val_accuracy: 0.7576\n",
            "Epoch 77/300\n",
            "21/22 [===========================>..] - ETA: 0s - loss: 0.6711 - accuracy: 0.7714\n",
            "Epoch 00077: val_loss did not improve from 0.72147\n",
            "22/22 [==============================] - 3s 123ms/step - loss: 0.6698 - accuracy: 0.7717 - val_loss: 0.7525 - val_accuracy: 0.7486\n",
            "Epoch 78/300\n",
            "21/22 [===========================>..] - ETA: 0s - loss: 0.6466 - accuracy: 0.7808\n",
            "Epoch 00078: val_loss did not improve from 0.72147\n",
            "22/22 [==============================] - 3s 123ms/step - loss: 0.6455 - accuracy: 0.7812 - val_loss: 0.7522 - val_accuracy: 0.7509\n",
            "Epoch 79/300\n",
            "21/22 [===========================>..] - ETA: 0s - loss: 0.6243 - accuracy: 0.7857\n",
            "Epoch 00079: val_loss did not improve from 0.72147\n",
            "22/22 [==============================] - 3s 123ms/step - loss: 0.6260 - accuracy: 0.7858 - val_loss: 0.7525 - val_accuracy: 0.7524\n",
            "Epoch 80/300\n",
            "21/22 [===========================>..] - ETA: 0s - loss: 0.6620 - accuracy: 0.7800\n",
            "Epoch 00080: val_loss did not improve from 0.72147\n",
            "22/22 [==============================] - 3s 123ms/step - loss: 0.6625 - accuracy: 0.7799 - val_loss: 0.7721 - val_accuracy: 0.7363\n",
            "Epoch 81/300\n",
            "21/22 [===========================>..] - ETA: 0s - loss: 0.6631 - accuracy: 0.7748\n",
            "Epoch 00081: val_loss did not improve from 0.72147\n",
            "22/22 [==============================] - 3s 123ms/step - loss: 0.6635 - accuracy: 0.7744 - val_loss: 0.7250 - val_accuracy: 0.7566\n",
            "Epoch 82/300\n",
            "21/22 [===========================>..] - ETA: 0s - loss: 0.6367 - accuracy: 0.7838\n",
            "Epoch 00082: val_loss did not improve from 0.72147\n",
            "22/22 [==============================] - 3s 123ms/step - loss: 0.6352 - accuracy: 0.7842 - val_loss: 0.7409 - val_accuracy: 0.7524\n",
            "Epoch 83/300\n",
            "21/22 [===========================>..] - ETA: 0s - loss: 0.6209 - accuracy: 0.7886\n",
            "Epoch 00083: val_loss improved from 0.72147 to 0.72023, saving model to weights4.best.hdf5\n",
            "22/22 [==============================] - 3s 155ms/step - loss: 0.6197 - accuracy: 0.7891 - val_loss: 0.7202 - val_accuracy: 0.7566\n",
            "Epoch 00083: early stopping\n",
            "Training completed in time:  0:04:15.434023\n"
          ]
        }
      ],
      "source": [
        "ess = EarlyStopping(monitor='val_accuracy', min_delta= 0.01 , patience= 25, verbose= 1, mode='auto')\n",
        "\n",
        "checkpointer = ModelCheckpoint(filepath='weights4.best.hdf5', \n",
        "                               verbose=1, save_best_only=True)\n",
        "start = datetime.now()\n",
        "\n",
        "\n",
        "model2.fit(X_train2, y_train,\n",
        "          batch_size = 300, \n",
        "          epochs = 300,\n",
        "          validation_data = (X_val2, y_val), \n",
        "          callbacks=[checkpointer, ess])\n",
        "\n",
        "duration = datetime.now() - start\n",
        "print(\"Training completed in time: \", duration)"
      ]
    },
    {
      "cell_type": "markdown",
      "source": [
        "##**Saving Model**"
      ],
      "metadata": {
        "id": "8Vn8iJy46WMn"
      }
    },
    {
      "cell_type": "code",
      "source": [
        "model2.save(\"Model2.h5\")"
      ],
      "metadata": {
        "id": "thgypkuh8HQE"
      },
      "execution_count": 48,
      "outputs": []
    },
    {
      "cell_type": "code",
      "execution_count": 49,
      "metadata": {
        "id": "4GAb-gSAUJQ6",
        "outputId": "8e0b3271-2e22-47f5-db59-0a29b320f5f7",
        "colab": {
          "base_uri": "https://localhost:8080/",
          "height": 328
        }
      },
      "outputs": [
        {
          "output_type": "execute_result",
          "data": {
            "text/plain": [
              "Text(0.5, 1.0, 'Training-Validation Accuracy')"
            ]
          },
          "metadata": {},
          "execution_count": 49
        },
        {
          "output_type": "display_data",
          "data": {
            "image/png": "[encoded data removed]",
            "text/plain": [
              "<Figure size 720x720 with 2 Axes>"
            ]
          },
          "metadata": {
            "needs_background": "light"
          }
        }
      ],
      "source": [
        "#saving the model history\n",
        "loss = pd.DataFrame(model2.history.history)\n",
        "\n",
        "\n",
        "#plotting the loss and accuracy \n",
        "plt.figure(figsize=(10,10))\n",
        "\n",
        "plt.subplot(2,2,1)\n",
        "plt.plot(loss[\"loss\"], label =\"Loss\")\n",
        "plt.plot(loss[\"val_loss\"], label = \"Validation_loss\")\n",
        "plt.legend()\n",
        "plt.title(\"Training and Validation Loss\")\n",
        "\n",
        "plt.subplot(2,2,2)\n",
        "plt.plot(loss['accuracy'],label = \"Training Accuracy\")\n",
        "plt.plot(loss['val_accuracy'], label =\"Validation_ Accuracy \")\n",
        "plt.legend()\n",
        "plt.title(\"Training-Validation Accuracy\")"
      ]
    },
    {
      "cell_type": "code",
      "execution_count": 50,
      "metadata": {
        "id": "_LwOPDPVUJQ6",
        "outputId": "888bef6d-1b86-4d68-ce40-f966420ff934",
        "colab": {
          "base_uri": "https://localhost:8080/"
        }
      },
      "outputs": [
        {
          "output_type": "stream",
          "name": "stdout",
          "text": [
            "[ 8 12 12 ... 11 10 10]\n"
          ]
        }
      ],
      "source": [
        "prediction = model2.predict(X_val2)\n",
        "\n",
        "# finding class with larget predicted probability using argmax of numpy \n",
        "y_pred = np.argmax(prediction, axis = 1)  # prediction using model \n",
        "y_val_orig = np.argmax(y_val, axis = 1) # original y_val\n",
        "print(y_pred)"
      ]
    },
    {
      "cell_type": "code",
      "execution_count": 51,
      "metadata": {
        "id": "HjOcKoCkUJQ6",
        "outputId": "22b8f8c6-b907-467d-ac4f-46ab76e172c1",
        "colab": {
          "base_uri": "https://localhost:8080/"
        }
      },
      "outputs": [
        {
          "output_type": "stream",
          "name": "stdout",
          "text": [
            "              precision    recall  f1-score   support\n",
            "\n",
            "           0       0.10      0.10      0.10        51\n",
            "           1       0.19      0.05      0.08        58\n",
            "           2       0.17      0.41      0.24        58\n",
            "           3       0.35      0.19      0.24        32\n",
            "           4       0.20      0.26      0.23        65\n",
            "           5       0.00      0.00      0.00        31\n",
            "           6       0.25      0.36      0.30        59\n",
            "           7       0.00      0.00      0.00        28\n",
            "           8       0.91      0.96      0.93       213\n",
            "           9       0.89      0.93      0.91        96\n",
            "          10       0.74      0.87      0.80       174\n",
            "          11       0.91      0.82      0.86       209\n",
            "          12       0.90      0.76      0.82       181\n",
            "          13       0.97      0.91      0.94       198\n",
            "          14       0.95      0.88      0.91        83\n",
            "          15       0.91      0.90      0.90       206\n",
            "          16       0.92      0.96      0.94       180\n",
            "          17       0.80      0.84      0.82       194\n",
            "\n",
            "    accuracy                           0.76      2116\n",
            "   macro avg       0.57      0.57      0.56      2116\n",
            "weighted avg       0.76      0.76      0.75      2116\n",
            "\n"
          ]
        }
      ],
      "source": [
        "print(classification_report(y_val_orig, y_pred))"
      ]
    },
    {
      "cell_type": "code",
      "source": [
        "from sklearn.metrics import accuracy_score\n",
        "accuracy_score(y_test, model2.predict_classes(X_test))"
      ],
      "metadata": {
        "id": "vHavaW6xU1NH"
      },
      "execution_count": 55,
      "outputs": []
    },
    {
      "cell_type": "code",
      "source": [
        ""
      ],
      "metadata": {
        "id": "2b1zSBJ-66j5"
      },
      "execution_count": null,
      "outputs": []
    }
  ],
  "metadata": {
    "colab": {
      "collapsed_sections": [],
      "name": "Best_result_model.ipynb",
      "provenance": [],
      "machine_shape": "hm"
    },
    "kernelspec": {
      "display_name": "Python 3",
      "language": "python",
      "name": "python3"
    },
    "language_info": {
      "codemirror_mode": {
        "name": "ipython",
        "version": 3
      },
      "file_extension": ".py",
      "mimetype": "text/x-python",
      "name": "python",
      "nbconvert_exporter": "python",
      "pygments_lexer": "ipython3",
      "version": "3.8.8"
    },
    "accelerator": "GPU"
  },
  "nbformat": 4,
  "nbformat_minor": 0
}